{
  "cells": [
    {
      "cell_type": "markdown",
      "metadata": {
        "id": "view-in-github",
        "colab_type": "text"
      },
      "source": [
        "<a href=\"https://colab.research.google.com/github/Manith-Ratnayake/Data-Enginnering/blob/main/Data_Engineering.ipynb\" target=\"_parent\"><img src=\"https://colab.research.google.com/assets/colab-badge.svg\" alt=\"Open In Colab\"/></a>"
      ]
    },
    {
      "cell_type": "markdown",
      "source": [
        "# **1. Data Pre Proccessing**"
      ],
      "metadata": {
        "id": "HdHbH4ia_ZII"
      }
    },
    {
      "cell_type": "code",
      "execution_count": 15,
      "metadata": {
        "colab": {
          "base_uri": "https://localhost:8080/"
        },
        "id": "Ulssz5GIkcZT",
        "outputId": "76c8cd95-b25a-47ed-a55f-599b84fb3a77"
      },
      "outputs": [
        {
          "output_type": "stream",
          "name": "stdout",
          "text": [
            "Drive already mounted at /content/drive; to attempt to forcibly remount, call drive.mount(\"/content/drive\", force_remount=True).\n"
          ]
        }
      ],
      "source": [
        "# Google drive and google collab connection\n",
        "from google.colab import drive\n",
        "drive.mount('/content/drive')"
      ]
    },
    {
      "cell_type": "code",
      "execution_count": 16,
      "metadata": {
        "colab": {
          "base_uri": "https://localhost:8080/"
        },
        "id": "IcZNC1s5mcGl",
        "outputId": "dcd31658-c60f-430e-d7fc-e08cc7909cf2"
      },
      "outputs": [
        {
          "output_type": "stream",
          "name": "stdout",
          "text": [
            "Requirement already satisfied: pyspark in /usr/local/lib/python3.10/dist-packages (3.5.1)\n",
            "Requirement already satisfied: py4j==0.10.9.7 in /usr/local/lib/python3.10/dist-packages (from pyspark) (0.10.9.7)\n"
          ]
        }
      ],
      "source": [
        "# In google collab pyspark is not pre installed\n",
        "!pip install pyspark"
      ]
    },
    {
      "cell_type": "markdown",
      "source": [
        "### **Preparing Data**"
      ],
      "metadata": {
        "id": "jGj1tdy1vNQm"
      }
    },
    {
      "cell_type": "code",
      "execution_count": 92,
      "metadata": {
        "id": "LvNfzOloGWPg"
      },
      "outputs": [],
      "source": [
        "import pandas as pd\n",
        "import numpy as np\n",
        "import matplotlib.pyplot as plt\n",
        "import seaborn as sns"
      ]
    },
    {
      "cell_type": "code",
      "execution_count": 93,
      "metadata": {
        "id": "DGylog8Yl7Bt"
      },
      "outputs": [],
      "source": [
        "from pyspark.sql import SparkSession\n",
        "from pyspark.sql.functions import col, mean, median, stddev"
      ]
    },
    {
      "cell_type": "code",
      "execution_count": 94,
      "metadata": {
        "id": "iO3U_mhLl-Ml"
      },
      "outputs": [],
      "source": [
        "# Creating a py spark session\n",
        "spark = SparkSession.builder.appName(\"sparkApp\").getOrCreate()"
      ]
    },
    {
      "cell_type": "code",
      "execution_count": 95,
      "metadata": {
        "colab": {
          "base_uri": "https://localhost:8080/"
        },
        "id": "1G2q5DgIG0Oo",
        "outputId": "0dc18c73-22a8-4f41-b708-a1db6f7d932c"
      },
      "outputs": [
        {
          "output_type": "stream",
          "name": "stdout",
          "text": [
            "df_spark.columns\n",
            "['HCHO Reading', 'Location', 'Current Date', 'Next Date']\n"
          ]
        }
      ],
      "source": [
        "# Reading three files\n",
        "col_mat_nuw_data = spark.read.csv(\"/content/drive/My Drive/Data Engineering/col_mat_nuw_output.csv\", header=False, inferSchema = True)\n",
        "kan_data         = spark.read.csv(\"/content/drive/My Drive/Data Engineering/kan_output.csv\", header=False, inferSchema = True )\n",
        "mon_kur_jaf_data = spark.read.csv(\"/content/drive/My Drive/Data Engineering/mon_kur_jaf_output.csv\", header=False, inferSchema = True)\n",
        "\n",
        "# Combining all files into 1 file\n",
        "df_spark = col_mat_nuw_data.union(mon_kur_jaf_data).union(kan_data)\n",
        "\n",
        "# Checking the current column names\n",
        "print(\"df_spark.columns\")\n",
        "\n",
        "# Rename the columns to more meaningful names\n",
        "df_spark = df_spark.withColumnRenamed('_c0', 'HCHO Reading') \\\n",
        "                   .withColumnRenamed('_c1', 'Location') \\\n",
        "                   .withColumnRenamed('_c2', 'Current Date') \\\n",
        "                   .withColumnRenamed('_c3', 'Next Date')\n",
        "\n",
        "print(df_spark.columns)"
      ]
    },
    {
      "cell_type": "code",
      "source": [
        "from pyspark.sql.functions import to_date\n",
        "\n",
        "# Convert 'Current Date' and 'Next Date' columns to date objects\n",
        "df_spark = df_spark.withColumn('Current Date', to_date(df_spark['Current Date'], 'yyyy/MM/dd'))\n",
        "df_spark = df_spark.withColumn('Next Date', to_date(df_spark['Next Date'], 'yyyy/MM/dd'))"
      ],
      "metadata": {
        "id": "H24bRXjgx3TE"
      },
      "execution_count": 96,
      "outputs": []
    },
    {
      "cell_type": "code",
      "source": [
        "df_spark.printSchema()"
      ],
      "metadata": {
        "colab": {
          "base_uri": "https://localhost:8080/"
        },
        "id": "U4nGn_KZzPzn",
        "outputId": "5ce1599d-36c8-4c7c-f136-1bbeb8a0d330"
      },
      "execution_count": 97,
      "outputs": [
        {
          "output_type": "stream",
          "name": "stdout",
          "text": [
            "root\n",
            " |-- HCHO Reading: double (nullable = true)\n",
            " |-- Location: string (nullable = true)\n",
            " |-- Current Date: date (nullable = true)\n",
            " |-- Next Date: date (nullable = true)\n",
            "\n"
          ]
        }
      ]
    },
    {
      "cell_type": "code",
      "source": [
        "df_spark.show()"
      ],
      "metadata": {
        "colab": {
          "base_uri": "https://localhost:8080/"
        },
        "id": "rEb7pt6rzQZ6",
        "outputId": "d8036d56-eedf-43d5-f389-785cdb07343d"
      },
      "execution_count": 98,
      "outputs": [
        {
          "output_type": "stream",
          "name": "stdout",
          "text": [
            "+--------------------+--------------+------------+----------+\n",
            "|        HCHO Reading|      Location|Current Date| Next Date|\n",
            "+--------------------+--------------+------------+----------+\n",
            "|1.969834395781014...|Colombo Proper|  2019-01-01|2019-01-02|\n",
            "|2.625522171968594...|Colombo Proper|  2019-01-02|2019-01-03|\n",
            "|9.852118897938794E-5|Colombo Proper|  2019-01-03|2019-01-04|\n",
            "|2.099320518114242E-4|Colombo Proper|  2019-01-04|2019-01-05|\n",
            "|1.785337298892930...|Colombo Proper|  2019-01-05|2019-01-06|\n",
            "|1.082296700235670...|Colombo Proper|  2019-01-06|2019-01-07|\n",
            "|3.926829280477309...|Colombo Proper|  2019-01-07|2019-01-08|\n",
            "|9.153156350685351E-5|Colombo Proper|  2019-01-08|2019-01-09|\n",
            "|1.205978992853015...|Colombo Proper|  2019-01-09|2019-01-10|\n",
            "|1.297723562983258...|Colombo Proper|  2019-01-10|2019-01-11|\n",
            "|2.239188166801278...|Colombo Proper|  2019-01-11|2019-01-12|\n",
            "|1.569418094178759...|Colombo Proper|  2019-01-12|2019-01-13|\n",
            "|                NULL|Colombo Proper|  2019-01-13|2019-01-14|\n",
            "|1.336291906862603...|Colombo Proper|  2019-01-14|2019-01-15|\n",
            "|6.374417842690063E-5|Colombo Proper|  2019-01-15|2019-01-16|\n",
            "|1.181062250815020...|Colombo Proper|  2019-01-16|2019-01-17|\n",
            "|2.472555222423037...|Colombo Proper|  2019-01-17|2019-01-18|\n",
            "|3.667525352047757E-5|Colombo Proper|  2019-01-18|2019-01-19|\n",
            "|4.057500868150313E-4|Colombo Proper|  2019-01-19|2019-01-20|\n",
            "|1.687856216479722...|Colombo Proper|  2019-01-20|2019-01-21|\n",
            "+--------------------+--------------+------------+----------+\n",
            "only showing top 20 rows\n",
            "\n"
          ]
        }
      ]
    },
    {
      "cell_type": "code",
      "source": [
        "from pyspark.sql.functions import col, sum as pyspark_sum\n",
        "\n",
        "# Define a list of column names\n",
        "columns = df_spark.columns\n",
        "\n",
        "# Create a dictionary to store the count of missing values for each column\n",
        "missing_value_counts = {}\n",
        "\n",
        "# Loop through each column and count the missing values\n",
        "for col_name in columns:\n",
        "    missing_count = df_spark.filter(col(col_name).isNull()).count()\n",
        "    missing_value_counts[col_name] = missing_count\n",
        "\n",
        "# Print the count of missing values for each column\n",
        "print(\"Number of missing values in each column:\\n\")\n",
        "for col_name, count in missing_value_counts.items():\n",
        "    print(col_name, \": \", count)"
      ],
      "metadata": {
        "colab": {
          "base_uri": "https://localhost:8080/"
        },
        "id": "Ygtj0gvI_XfU",
        "outputId": "4d4f5ca2-1492-4aa3-b20c-61c9d6124673"
      },
      "execution_count": 99,
      "outputs": [
        {
          "output_type": "stream",
          "name": "stdout",
          "text": [
            "Number of missing values in each column:\n",
            "\n",
            "HCHO Reading :  4864\n",
            "Location :  0\n",
            "Current Date :  0\n",
            "Next Date :  0\n"
          ]
        }
      ]
    },
    {
      "cell_type": "markdown",
      "source": [
        "###**Statistics of Data**"
      ],
      "metadata": {
        "id": "IlwMZ5AwvYhu"
      }
    },
    {
      "cell_type": "code",
      "source": [
        "from pyspark.sql.functions import mean, median, stddev\n",
        "\n",
        "# Calculate descriptive statistics for each city\n",
        "city_statistics = df_spark.groupBy('Location') \\\n",
        "    .agg(mean('HCHO Reading').alias('Mean HCHO Reading'),\n",
        "         median('HCHO Reading').alias('Median HCHO Reading'),\n",
        "         stddev('HCHO Reading').alias('Stddev HCHO Reading'))\n",
        "\n",
        "# Calculate descriptive statistics across the entire dataset\n",
        "overall_statistics = df_spark.agg(mean('HCHO Reading').alias('Overall Mean HCHO Reading'),\n",
        "                                  median('HCHO Reading').alias('Overall Median HCHO Reading'),\n",
        "                                  stddev('HCHO Reading').alias('Overall Stddev HCHO Reading'))\n",
        "\n",
        "# Show descriptive statistics for each city\n",
        "print(\"Descriptive statistics for each city:\")\n",
        "city_statistics.show()\n",
        "\n",
        "# Show descriptive statistics across the entire dataset\n",
        "print(\"Descriptive statistics across the entire dataset:\")\n",
        "overall_statistics.show()\n"
      ],
      "metadata": {
        "colab": {
          "base_uri": "https://localhost:8080/"
        },
        "id": "8ad4L7Oe60ux",
        "outputId": "f161390f-2649-42d3-a594-a1c447af86fb"
      },
      "execution_count": 100,
      "outputs": [
        {
          "output_type": "stream",
          "name": "stdout",
          "text": [
            "Descriptive statistics for each city:\n",
            "+-------------------+--------------------+--------------------+--------------------+\n",
            "|           Location|   Mean HCHO Reading| Median HCHO Reading| Stddev HCHO Reading|\n",
            "+-------------------+--------------------+--------------------+--------------------+\n",
            "|   Deniyaya, Matara|9.165608034246397E-5|8.139267673429977E-5|9.717767267758977E-5|\n",
            "|     Colombo Proper|1.585714042136032...|1.513378521025510...|9.928801616320847E-5|\n",
            "|Nuwara Eliya Proper|8.792586073767327E-5|8.174215025586297E-5|8.366257795578253E-5|\n",
            "|  Kurunegala Proper|1.340202702666862E-4|1.269039756519183...|8.677375232539984E-5|\n",
            "| Bibile, Monaragala|1.264313797412045...|1.245459857616176...|9.402251427407129E-5|\n",
            "|      Jaffna Proper|1.088086650369041E-4|1.016972921468162E-4|7.844332899390023E-5|\n",
            "|       Kandy Proper|1.063760956208845...|1.059133650579240...|9.202571862518035E-5|\n",
            "+-------------------+--------------------+--------------------+--------------------+\n",
            "\n",
            "Descriptive statistics across the entire dataset:\n",
            "+-------------------------+---------------------------+---------------------------+\n",
            "|Overall Mean HCHO Reading|Overall Median HCHO Reading|Overall Stddev HCHO Reading|\n",
            "+-------------------------+---------------------------+---------------------------+\n",
            "|     1.192778916513748...|       1.120543859248089...|       9.322341209771851E-5|\n",
            "+-------------------------+---------------------------+---------------------------+\n",
            "\n"
          ]
        }
      ]
    },
    {
      "cell_type": "markdown",
      "source": [
        "### **Missing Values**"
      ],
      "metadata": {
        "id": "ZPsBNsJzwGkx"
      }
    },
    {
      "cell_type": "code",
      "source": [
        "from pyspark.sql.functions import mean as pyspark_mean, when\n",
        "\n",
        "# Impute missing values for numerical columns with the mean\n",
        "numerical_columns = ['HCHO Reading']  # Assuming 'HCHO Reading' is the only numerical column\n",
        "for col_name in numerical_columns:\n",
        "    mean_value = df_spark.select(pyspark_mean(col(col_name)).alias('mean')).collect()[0]['mean']\n",
        "    df_spark = df_spark.withColumn(col_name, when(col(col_name).isNull(), mean_value).otherwise(col(col_name)))\n",
        "\n",
        "# Impute missing values for categorical columns with the most frequent category\n",
        "categorical_columns = ['Location', 'Current Date', 'Next Date']  # Assuming these are categorical columns\n",
        "for col_name in categorical_columns:\n",
        "    most_frequent_value = df_spark.groupBy(col_name).count().orderBy(col('count').desc()).first()[col_name]\n",
        "    df_spark = df_spark.withColumn(col_name, when(col(col_name).isNull(), most_frequent_value).otherwise(col(col_name)))\n",
        "\n",
        "# Recheck missing values after imputation\n",
        "missing_value_counts_after_imputation = {}\n",
        "for col_name in df_spark.columns:\n",
        "    missing_count = df_spark.filter(col(col_name).isNull()).count()\n",
        "    missing_value_counts_after_imputation[col_name] = missing_count\n",
        "\n",
        "# Print the count of missing values for each column after imputation\n",
        "print(\"Number of missing values in each column after imputation:\")\n",
        "for col_name, count in missing_value_counts_after_imputation.items():\n",
        "    print(col_name, \": \", count)"
      ],
      "metadata": {
        "colab": {
          "base_uri": "https://localhost:8080/"
        },
        "id": "X3Q-CzkD5Gdj",
        "outputId": "8f06f7a4-ae9f-4445-f8f8-0e95df204a47"
      },
      "execution_count": 101,
      "outputs": [
        {
          "output_type": "stream",
          "name": "stdout",
          "text": [
            "Number of missing values in each column after imputation:\n",
            "HCHO Reading :  0\n",
            "Location :  0\n",
            "Current Date :  0\n",
            "Next Date :  0\n"
          ]
        }
      ]
    },
    {
      "cell_type": "markdown",
      "source": [
        "###**Outliers**"
      ],
      "metadata": {
        "id": "Jh2Hv_UJwQd1"
      }
    },
    {
      "cell_type": "code",
      "source": [
        "import matplotlib.pyplot as plt\n",
        "\n",
        "# Select numerical columns for visualization\n",
        "numerical_columns = ['HCHO Reading']  # Assuming 'HCHO Reading' is the only numerical column\n",
        "\n",
        "# Create boxplots for each numerical column\n",
        "for col_name in numerical_columns:\n",
        "    # Convert column to Pandas DataFrame for visualization\n",
        "    df = df_spark.select(col_name).toPandas()\n",
        "\n",
        "    # Create boxplot\n",
        "    plt.figure(figsize=(8, 6))\n",
        "    plt.boxplot(df[col_name], vert=False)\n",
        "    plt.title(f'Boxplot of {col_name}')\n",
        "    plt.xlabel(col_name)\n",
        "    plt.show()\n"
      ],
      "metadata": {
        "colab": {
          "base_uri": "https://localhost:8080/",
          "height": 564
        },
        "id": "PKM0c9sn6SBT",
        "outputId": "0dfa1572-643f-4178-c259-870da76639bd"
      },
      "execution_count": 102,
      "outputs": [
        {
          "output_type": "display_data",
          "data": {
            "text/plain": [
              "<Figure size 800x600 with 1 Axes>"
            ],
            "image/png": "[encoded data removed]"
          },
          "metadata": {}
        }
      ]
    },
    {
      "cell_type": "code",
      "source": [
        "import matplotlib.pyplot as plt\n",
        "import pandas as pd\n",
        "\n",
        "# Select numerical columns for visualization\n",
        "numerical_columns = ['HCHO Reading']  # Assuming 'HCHO Reading' is the only numerical column\n",
        "\n",
        "# Create boxplots for each numerical column\n",
        "for col_name in numerical_columns:\n",
        "    # Convert column to Pandas DataFrame for visualization\n",
        "    df = df_spark.select(col_name).toPandas()\n",
        "\n",
        "    # Convert the column to the appropriate numeric type (optional, but might resolve the error)\n",
        "    df[col_name] = pd.to_numeric(df[col_name])\n",
        "\n",
        "    # Create boxplot\n",
        "    plt.figure(figsize=(8, 6))\n",
        "    plt.boxplot(df[col_name], vert=False)\n",
        "    plt.title(f'Boxplot of {col_name}')\n",
        "    plt.xlabel(col_name)\n",
        "    plt.show()\n"
      ],
      "metadata": {
        "colab": {
          "base_uri": "https://localhost:8080/",
          "height": 564
        },
        "id": "skWRLIBl6eHU",
        "outputId": "96d0c937-f644-42f8-be14-771b4419e1b3"
      },
      "execution_count": 103,
      "outputs": [
        {
          "output_type": "display_data",
          "data": {
            "text/plain": [
              "<Figure size 800x600 with 1 Axes>"
            ],
            "image/png": "[encoded data removed]"
          },
          "metadata": {}
        }
      ]
    },
    {
      "cell_type": "code",
      "source": [
        "import matplotlib.pyplot as plt\n",
        "import seaborn as sns\n",
        "import pandas as pd\n",
        "\n",
        "# Convert PySpark DataFrame to Pandas DataFrame\n",
        "hcho_data_pd = df_spark.select('HCHO Reading').toPandas()\n",
        "\n",
        "# Set plot style\n",
        "sns.set_style(\"whitegrid\")\n",
        "\n",
        "# Create histogram\n",
        "plt.figure(figsize=(10, 6))\n",
        "sns.histplot(data=hcho_data_pd, x='HCHO Reading', bins=20, kde=True)\n",
        "plt.title('Histogram of HCHO Levels')\n",
        "plt.xlabel('HCHO Reading')\n",
        "plt.ylabel('Frequency')\n",
        "plt.show()\n",
        "\n",
        "# Create boxplot\n",
        "plt.figure(figsize=(8, 6))\n",
        "sns.boxplot(data=hcho_data_pd, y='HCHO Reading')\n",
        "plt.title('Boxplot of HCHO Levels')\n",
        "plt.ylabel('HCHO Reading')\n",
        "plt.show()\n"
      ],
      "metadata": {
        "colab": {
          "base_uri": "https://localhost:8080/",
          "height": 1000
        },
        "id": "SGcD3tp67P_E",
        "outputId": "3a68ae63-365d-4379-815b-b88452582485"
      },
      "execution_count": 104,
      "outputs": [
        {
          "output_type": "display_data",
          "data": {
            "text/plain": [
              "<Figure size 1000x600 with 1 Axes>"
            ],
            "image/png": "[encoded data removed]"
          },
          "metadata": {}
        },
        {
          "output_type": "display_data",
          "data": {
            "text/plain": [
              "<Figure size 800x600 with 1 Axes>"
            ],
            "image/png": "[encoded data removed]"
          },
          "metadata": {}
        }
      ]
    },
    {
      "cell_type": "code",
      "source": [],
      "metadata": {
        "id": "Cm-qRfGG8_VN"
      },
      "execution_count": 104,
      "outputs": []
    },
    {
      "cell_type": "code",
      "source": [
        "import pandas as pd\n",
        "from statsmodels.tsa.arima.model import ARIMA\n",
        "from pyspark.sql import SparkSession\n",
        "from pyspark.sql.functions import col\n",
        "\n",
        "\n",
        "\n",
        "# Convert PySpark DataFrame to Pandas DataFrame\n",
        "hcho_data_pd = df_spark.select('Current Date', 'HCHO Reading') \\\n",
        "                       .orderBy('Current Date') \\\n",
        "                       .toPandas()\n",
        "\n",
        "# Ensure 'Current Date' column is in datetime format\n",
        "hcho_data_pd['Current Date'] = pd.to_datetime(hcho_data_pd['Current Date'])\n",
        "\n",
        "# Set 'Current Date' as index\n",
        "hcho_data_pd.set_index('Current Date', inplace=True)\n",
        "\n",
        "# Split data into train and test sets\n",
        "train_data = hcho_data_pd.iloc[:int(0.8 * len(hcho_data_pd))]\n",
        "test_data = hcho_data_pd.iloc[int(0.8 * len(hcho_data_pd)):]\n",
        "\n",
        "# Define and fit ARIMA model\n",
        "order = (5, 1, 0)  # Example order (p, d, q)\n",
        "arima_model = ARIMA(train_data, order=order)\n",
        "arima_result = arima_model.fit()\n",
        "\n",
        "# Forecast future HCHO levels\n",
        "forecast_steps = len(test_data)\n",
        "forecast = arima_result.forecast(steps=forecast_steps)\n",
        "\n",
        "# Evaluate the model (optional)\n",
        "# You can use appropriate evaluation metrics such as RMSE, MAE, etc.\n",
        "\n",
        "# Convert forecast result to PySpark DataFrame\n",
        "forecast_df = spark.createDataFrame(zip(test_data.index, forecast), schema=['Current Date', 'Forecast HCHO'])\n",
        "\n",
        "# Show forecast results\n",
        "forecast_df.show()"
      ],
      "metadata": {
        "colab": {
          "base_uri": "https://localhost:8080/"
        },
        "id": "ZV09i7ET7-fF",
        "outputId": "bf8cec9f-1a9e-4e28-f6ef-3cc87ec34e85"
      },
      "execution_count": 105,
      "outputs": [
        {
          "output_type": "stream",
          "name": "stderr",
          "text": [
            "/usr/local/lib/python3.10/dist-packages/statsmodels/tsa/base/tsa_model.py:473: ValueWarning: A date index has been provided, but it has no associated frequency information and so will be ignored when e.g. forecasting.\n",
            "  self._init_dates(dates, freq)\n",
            "/usr/local/lib/python3.10/dist-packages/statsmodels/tsa/base/tsa_model.py:473: ValueWarning: A date index has been provided, but it has no associated frequency information and so will be ignored when e.g. forecasting.\n",
            "  self._init_dates(dates, freq)\n",
            "/usr/local/lib/python3.10/dist-packages/statsmodels/tsa/base/tsa_model.py:473: ValueWarning: A date index has been provided, but it has no associated frequency information and so will be ignored when e.g. forecasting.\n",
            "  self._init_dates(dates, freq)\n",
            "/usr/local/lib/python3.10/dist-packages/statsmodels/tsa/base/tsa_model.py:836: ValueWarning: No supported index is available. Prediction results will be given with an integer index beginning at `start`.\n",
            "  return get_prediction_index(\n",
            "/usr/local/lib/python3.10/dist-packages/statsmodels/tsa/base/tsa_model.py:836: FutureWarning: No supported index is available. In the next version, calling this method in a model without a supported index will result in an exception.\n",
            "  return get_prediction_index(\n"
          ]
        },
        {
          "output_type": "stream",
          "name": "stdout",
          "text": [
            "+------------+--------------------+\n",
            "|Current Date|       Forecast HCHO|\n",
            "+------------+--------------------+\n",
            "|          {}|1.338076685792047...|\n",
            "|          {}|1.353939668932111E-4|\n",
            "|          {}|8.767209544063553E-5|\n",
            "|          {}|5.931105047441026...|\n",
            "|          {}|6.487241946366198E-5|\n",
            "|          {}| 1.00185320462927E-4|\n",
            "|          {}|9.556481674834232E-5|\n",
            "|          {}|8.874534270872692E-5|\n",
            "|          {}|8.279622798065635E-5|\n",
            "|          {}|8.315588869899444E-5|\n",
            "|          {}|8.605883279836072E-5|\n",
            "|          {}|8.913239069980993E-5|\n",
            "|          {}|8.733341178011056E-5|\n",
            "|          {}|8.612789148486027E-5|\n",
            "|          {}|8.588665603997901E-5|\n",
            "|          {}| 8.64133897353889E-5|\n",
            "|          {}|8.679259591387551E-5|\n",
            "|          {}|8.688817548265564E-5|\n",
            "|          {}| 8.65562694238435E-5|\n",
            "|          {}|8.645704764157851E-5|\n",
            "+------------+--------------------+\n",
            "only showing top 20 rows\n",
            "\n"
          ]
        }
      ]
    },
    {
      "cell_type": "code",
      "source": [
        "print(hcho_data_pd.dtypes)\n"
      ],
      "metadata": {
        "colab": {
          "base_uri": "https://localhost:8080/"
        },
        "id": "bQjy3ulE-Cg1",
        "outputId": "ecd2098b-440b-4ff2-d1e9-e94e09f8a0d8"
      },
      "execution_count": 106,
      "outputs": [
        {
          "output_type": "stream",
          "name": "stdout",
          "text": [
            "HCHO Reading    float64\n",
            "dtype: object\n"
          ]
        }
      ]
    },
    {
      "cell_type": "code",
      "source": [],
      "metadata": {
        "id": "sET8nhBx-9D2"
      },
      "execution_count": 106,
      "outputs": []
    },
    {
      "cell_type": "code",
      "source": [
        "missing_values = hcho_data_pd['HCHO Reading'].isnull().sum()\n",
        "print(\"Number of missing values:\", missing_values)\n",
        "invalid_values = hcho_data_pd[~hcho_data_pd['HCHO Reading'].notnull()]['HCHO Reading']\n",
        "print(\"Invalid values:\", invalid_values)\n",
        "hcho_data_pd.dropna(subset=['HCHO Reading'], inplace=True)\n",
        "mean_hcho = hcho_data_pd['HCHO Reading'].mean()\n",
        "hcho_data_pd['HCHO Reading'].fillna(mean_hcho, inplace=True)\n"
      ],
      "metadata": {
        "colab": {
          "base_uri": "https://localhost:8080/"
        },
        "id": "IKU6uQIn-TRN",
        "outputId": "c96eb7b5-c3fc-4fe8-d152-28ecb08071cd"
      },
      "execution_count": 107,
      "outputs": [
        {
          "output_type": "stream",
          "name": "stdout",
          "text": [
            "Number of missing values: 0\n",
            "Invalid values: Series([], Name: HCHO Reading, dtype: float64)\n"
          ]
        }
      ]
    },
    {
      "cell_type": "code",
      "source": [
        "# Convert 'HCHO Reading' column to numeric data type\n",
        "hcho_data_pd['HCHO Reading'] = pd.to_numeric(hcho_data_pd['HCHO Reading'], errors='coerce')\n"
      ],
      "metadata": {
        "id": "K387T2vv-J5Q"
      },
      "execution_count": 108,
      "outputs": []
    },
    {
      "cell_type": "code",
      "source": [
        "import pandas as pd\n",
        "from statsmodels.tsa.arima.model import ARIMA\n",
        "from pyspark.sql import SparkSession\n",
        "\n",
        "# Create a PySpark session\n",
        "spark = SparkSession.builder \\\n",
        "    .appName(\"ARIMA_HCHO_Prediction\") \\\n",
        "    .getOrCreate()\n",
        "\n",
        "# Convert PySpark DataFrame to Pandas DataFrame\n",
        "hcho_data_pd = all_data.select('Current Date', 'HCHO Reading') \\\n",
        "                       .orderBy('Current Date') \\\n",
        "                       .toPandas()\n",
        "\n",
        "# Ensure 'Current Date' column is in datetime format\n",
        "hcho_data_pd['Current Date'] = pd.to_datetime(hcho_data_pd['Current Date'])\n",
        "\n",
        "# Set 'Current Date' as index\n",
        "hcho_data_pd.set_index('Current Date', inplace=True)\n",
        "\n",
        "# Check for missing values in the 'HCHO Reading' column\n",
        "missing_values = hcho_data_pd['HCHO Reading'].isnull().sum()\n",
        "print(\"Number of missing values:\", missing_values)\n",
        "\n",
        "# Check for any invalid values in the 'HCHO Reading' column\n",
        "invalid_values = hcho_data_pd[~hcho_data_pd['HCHO Reading'].notnull()]['HCHO Reading']\n",
        "print(\"Invalid values:\", invalid_values)\n",
        "\n",
        "# Handle missing or invalid values\n",
        "# mean_hcho = hcho_data_pd['HCHO Reading'].mean()\n",
        "hcho_data_pd['HCHO Reading'].fillna(mean_hcho, inplace=True)\n",
        "\n",
        "# Confirm the data type of the 'HCHO Reading' column\n",
        "print(hcho_data_pd['HCHO Reading'].dtype)\n",
        "\n",
        "# Split data into train and test sets\n",
        "train_data = hcho_data_pd.iloc[:int(0.8 * len(hcho_data_pd))]\n",
        "test_data = hcho_data_pd.iloc[int(0.8 * len(hcho_data_pd)):]\n",
        "\n",
        "# Define and fit ARIMA model\n",
        "order = (5, 1, 0)  # Example order (p, d, q)\n",
        "arima_model = ARIMA(train_data, order=order)\n",
        "arima_result = arima_model.fit()\n",
        "\n",
        "# Forecast future HCHO levels\n",
        "forecast_steps = len(test_data)\n",
        "forecast = arima_result.forecast(steps=forecast_steps)\n",
        "\n",
        "# Convert forecast result to PySpark DataFrame\n",
        "forecast_df = spark.createDataFrame(zip(test_data.index, forecast), schema=['Current Date', 'Forecast HCHO'])\n",
        "\n",
        "# Show forecast results\n",
        "forecast_df.show()\n"
      ],
      "metadata": {
        "colab": {
          "base_uri": "https://localhost:8080/",
          "height": 346
        },
        "id": "Fj7HqrDJ--hN",
        "outputId": "c645f944-91e4-4e21-c5a2-ec9528fde842"
      },
      "execution_count": 109,
      "outputs": [
        {
          "output_type": "error",
          "ename": "AttributeError",
          "evalue": "'DataFrame' object has no attribute 'select'",
          "traceback": [
            "\u001b[0;31m---------------------------------------------------------------------------\u001b[0m",
            "\u001b[0;31mAttributeError\u001b[0m                            Traceback (most recent call last)",
            "\u001b[0;32m<ipython-input-109-b8d6e0172d96>\u001b[0m in \u001b[0;36m<cell line: 11>\u001b[0;34m()\u001b[0m\n\u001b[1;32m      9\u001b[0m \u001b[0;34m\u001b[0m\u001b[0m\n\u001b[1;32m     10\u001b[0m \u001b[0;31m# Convert PySpark DataFrame to Pandas DataFrame\u001b[0m\u001b[0;34m\u001b[0m\u001b[0;34m\u001b[0m\u001b[0m\n\u001b[0;32m---> 11\u001b[0;31m \u001b[0mhcho_data_pd\u001b[0m \u001b[0;34m=\u001b[0m \u001b[0mall_data\u001b[0m\u001b[0;34m.\u001b[0m\u001b[0mselect\u001b[0m\u001b[0;34m(\u001b[0m\u001b[0;34m'Current Date'\u001b[0m\u001b[0;34m,\u001b[0m \u001b[0;34m'HCHO Reading'\u001b[0m\u001b[0;34m)\u001b[0m\u001b[0;31m \u001b[0m\u001b[0;31m\\\u001b[0m\u001b[0;34m\u001b[0m\u001b[0;34m\u001b[0m\u001b[0m\n\u001b[0m\u001b[1;32m     12\u001b[0m                        \u001b[0;34m.\u001b[0m\u001b[0morderBy\u001b[0m\u001b[0;34m(\u001b[0m\u001b[0;34m'Current Date'\u001b[0m\u001b[0;34m)\u001b[0m\u001b[0;31m \u001b[0m\u001b[0;31m\\\u001b[0m\u001b[0;34m\u001b[0m\u001b[0;34m\u001b[0m\u001b[0m\n\u001b[1;32m     13\u001b[0m                        \u001b[0;34m.\u001b[0m\u001b[0mtoPandas\u001b[0m\u001b[0;34m(\u001b[0m\u001b[0;34m)\u001b[0m\u001b[0;34m\u001b[0m\u001b[0;34m\u001b[0m\u001b[0m\n",
            "\u001b[0;32m/usr/local/lib/python3.10/dist-packages/pandas/core/generic.py\u001b[0m in \u001b[0;36m__getattr__\u001b[0;34m(self, name)\u001b[0m\n\u001b[1;32m   5987\u001b[0m         ):\n\u001b[1;32m   5988\u001b[0m             \u001b[0;32mreturn\u001b[0m \u001b[0mself\u001b[0m\u001b[0;34m[\u001b[0m\u001b[0mname\u001b[0m\u001b[0;34m]\u001b[0m\u001b[0;34m\u001b[0m\u001b[0;34m\u001b[0m\u001b[0m\n\u001b[0;32m-> 5989\u001b[0;31m         \u001b[0;32mreturn\u001b[0m \u001b[0mobject\u001b[0m\u001b[0;34m.\u001b[0m\u001b[0m__getattribute__\u001b[0m\u001b[0;34m(\u001b[0m\u001b[0mself\u001b[0m\u001b[0;34m,\u001b[0m \u001b[0mname\u001b[0m\u001b[0;34m)\u001b[0m\u001b[0;34m\u001b[0m\u001b[0;34m\u001b[0m\u001b[0m\n\u001b[0m\u001b[1;32m   5990\u001b[0m \u001b[0;34m\u001b[0m\u001b[0m\n\u001b[1;32m   5991\u001b[0m     \u001b[0;32mdef\u001b[0m \u001b[0m__setattr__\u001b[0m\u001b[0;34m(\u001b[0m\u001b[0mself\u001b[0m\u001b[0;34m,\u001b[0m \u001b[0mname\u001b[0m\u001b[0;34m:\u001b[0m \u001b[0mstr\u001b[0m\u001b[0;34m,\u001b[0m \u001b[0mvalue\u001b[0m\u001b[0;34m)\u001b[0m \u001b[0;34m->\u001b[0m \u001b[0;32mNone\u001b[0m\u001b[0;34m:\u001b[0m\u001b[0;34m\u001b[0m\u001b[0;34m\u001b[0m\u001b[0m\n",
            "\u001b[0;31mAttributeError\u001b[0m: 'DataFrame' object has no attribute 'select'"
          ]
        }
      ]
    },
    {
      "cell_type": "code",
      "source": [
        "from pyspark.sql.functions import lit\n",
        "from pyspark.ml.evaluation import RegressionEvaluator\n",
        "\n",
        "# Convert forecast result to PySpark DataFrame\n",
        "forecast_df = spark.createDataFrame(zip(test_data.index, forecast), schema=['Current Date', 'Forecast HCHO'])\n",
        "\n",
        "# Join forecast and test data\n",
        "evaluation_df = forecast_df.join(all_data.select('Current Date', 'HCHO Reading'), on='Current Date', how='inner') \\\n",
        "                           .withColumnRenamed('HCHO Reading', 'Actual HCHO')\n",
        "\n",
        "# Calculate evaluation metrics\n",
        "mse_evaluator = RegressionEvaluator(labelCol='Actual HCHO', predictionCol='Forecast HCHO', metricName='mse')\n",
        "mse = mse_evaluator.evaluate(evaluation_df)\n",
        "\n",
        "mae_evaluator = RegressionEvaluator(labelCol='Actual HCHO', predictionCol='Forecast HCHO', metricName='mae')\n",
        "mae = mae_evaluator.evaluate(evaluation_df)\n",
        "\n",
        "rmse = mse ** 0.5  # Calculate RMSE from MSE\n",
        "\n",
        "# Print evaluation metrics\n",
        "print(\"Evaluation Metrics:\")\n",
        "print(\"Mean Squared Error (MSE):\", mse)\n",
        "print(\"Mean Absolute Error (MAE):\", mae)\n",
        "print(\"Root Mean Squared Error (RMSE):\", rmse)"
      ],
      "metadata": {
        "id": "bhATDOk68Zll"
      },
      "execution_count": null,
      "outputs": []
    },
    {
      "cell_type": "code",
      "source": [
        "# from pyspark.sql.functions import col, when, lag, lead\n",
        "# from pyspark.sql.window import Window\n",
        "\n",
        "# # Define a window specification partitioned by 'Location' and ordered by 'Current Date'\n",
        "# window_spec = Window.partitionBy('Location').orderBy('Current Date')\n",
        "\n",
        "# # Calculate lag and lead values\n",
        "# lag_value = lag('HCHO Reading').over(window_spec)\n",
        "# lead_value = lead('HCHO Reading').over(window_spec)\n",
        "\n",
        "# # Fill missing values by taking the average of lag and lead values\n",
        "# interpolated_value = (lag_value + lead_value) / 2\n",
        "\n",
        "# # Fill missing values in 'HCHO Reading' column using interpolation\n",
        "# interpolated_data = all_data.withColumn('HCHO Reading',\n",
        "#                                         when(col('HCHO Reading').isNull(), interpolated_value)\n",
        "#                                         .otherwise(col('HCHO Reading')))\n",
        "\n",
        "# # Show the interpolated data\n",
        "# print(interpolated_data.show())\n",
        "# # Count the number of null values in each column\n",
        "# null_counts = interpolated_data.select([col(c).isNull().alias(c) for c in interpolated_data.columns]).toPandas().sum()\n",
        "\n",
        "# # Print the number of null values in each column\n",
        "# print(\"Number of null values in each column:\")\n",
        "# print(null_counts)"
      ],
      "metadata": {
        "id": "fXBtriwCB-g5"
      },
      "execution_count": null,
      "outputs": []
    },
    {
      "cell_type": "code",
      "source": [
        "# from pyspark.ml.feature import VectorAssembler\n",
        "# from pyspark.ml.regression import LinearRegression\n",
        "# from pyspark.sql.functions import col\n",
        "\n",
        "# # Select relevant columns for imputation\n",
        "# selected_columns = ['HCHO Reading', 'Current Date', 'Next Date', 'Location']\n",
        "\n",
        "# # Drop rows with missing values in any of the selected columns\n",
        "# selected_data = interpolated_data.dropna(subset=selected_columns)\n",
        "\n",
        "# # Convert 'Location' column to numerical using StringIndexer\n",
        "# from pyspark.ml.feature import StringIndexer\n",
        "# indexer = StringIndexer(inputCol=\"Location\", outputCol=\"LocationIndex\")\n",
        "# indexed_data = indexer.fit(selected_data).transform(selected_data)\n",
        "\n",
        "# # Create feature vector combining 'Current Date', 'Next Date', and 'LocationIndex'\n",
        "# assembler = VectorAssembler(inputCols=[\"Current Date\", \"Next Date\", \"LocationIndex\"], outputCol=\"features\")\n",
        "# assembled_data = assembler.transform(indexed_data)\n",
        "\n",
        "# # Split data into training and testing sets\n",
        "# (training_data, testing_data) = assembled_data.randomSplit([0.8, 0.2])\n",
        "\n",
        "# # Train a linear regression model\n",
        "# lr = LinearRegression(featuresCol='features', labelCol='HCHO Reading')\n",
        "# lr_model = lr.fit(training_data)\n",
        "\n",
        "# # Make predictions on testing data\n",
        "# predictions = lr_model.transform(testing_data)\n",
        "\n",
        "# # Replace missing values in 'HCHO Reading' column with predicted values\n",
        "# imputed_data = interpolated_data.join(predictions.select('Current Date', 'Next Date', 'Location', 'prediction'),\n",
        "#                                       on=['Current Date', 'Next Date', 'Location'], how='left')\n",
        "\n",
        "# imputed_data = imputed_data.withColumn('HCHO Reading',\n",
        "#                                        when(col('HCHO Reading').isNull(), col('prediction'))\n",
        "#                                        .otherwise(col('HCHO Reading')))\n",
        "\n",
        "# # Drop the 'prediction' column\n",
        "# imputed_data = imputed_data.drop('prediction')\n",
        "\n",
        "# # Show the imputed data\n",
        "# imputed_data.show()\n"
      ],
      "metadata": {
        "id": "iqEYIfJwOc1G"
      },
      "execution_count": null,
      "outputs": []
    },
    {
      "cell_type": "code",
      "source": [
        "# from pyspark.ml.feature import VectorAssembler\n",
        "# from pyspark.ml.regression import LinearRegression\n",
        "# from pyspark.sql.functions import col, datediff, lit\n",
        "\n",
        "# # Select relevant columns for imputation\n",
        "# selected_columns = ['HCHO Reading', 'Current Date', 'Next Date', 'Location']\n",
        "\n",
        "# # Drop rows with missing values in any of the selected columns\n",
        "# selected_data = interpolated_data.dropna(subset=selected_columns)\n",
        "\n",
        "# # Convert date columns to numerical values representing days since a reference date\n",
        "# reference_date = selected_data.selectExpr(\"min(`Current Date`)\")\n",
        "# reference_date_value = reference_date.collect()[0][0]\n",
        "\n",
        "# selected_data = selected_data.withColumn(\"Days Since Reference\", datediff(col(\"Current Date\"), lit(reference_date_value)))\n",
        "\n",
        "# # Convert 'Location' column to numerical using StringIndexer\n",
        "# from pyspark.ml.feature import StringIndexer\n",
        "# indexer = StringIndexer(inputCol=\"Location\", outputCol=\"LocationIndex\")\n",
        "# indexed_data = indexer.fit(selected_data).transform(selected_data)\n",
        "\n",
        "# # Create feature vector combining 'Days Since Reference', 'Next Date', and 'LocationIndex'\n",
        "# assembler = VectorAssembler(inputCols=[\"Days Since Reference\", \"Next Date\", \"LocationIndex\"], outputCol=\"features\")\n",
        "# assembled_data = assembler.transform(indexed_data)\n",
        "\n",
        "# # Split data into training and testing sets\n",
        "# (training_data, testing_data) = assembled_data.randomSplit([0.8, 0.2])\n",
        "\n",
        "# # Train a linear regression model\n",
        "# lr = LinearRegression(featuresCol='features', labelCol='HCHO Reading')\n",
        "# lr_model = lr.fit(training_data)\n",
        "\n",
        "# # Make predictions on testing data\n",
        "# predictions = lr_model.transform(testing_data)\n",
        "\n",
        "# # Replace missing values in 'HCHO Reading' column with predicted values\n",
        "# imputed_data = interpolated_data.join(predictions.select('Current Date', 'Next Date', 'Location', 'prediction'),\n",
        "#                                       on=['Current Date', 'Next Date', 'Location'], how='left')\n",
        "\n",
        "# imputed_data = imputed_data.withColumn('HCHO Reading',\n",
        "#                                        when(col('HCHO Reading').isNull(), col('prediction'))\n",
        "#                                        .otherwise(col('HCHO Reading')))\n",
        "\n",
        "# # Drop the 'prediction' column\n",
        "# imputed_data = imputed_data.drop('prediction')\n",
        "\n",
        "# # Show the imputed data\n",
        "# imputed_data.show()\n"
      ],
      "metadata": {
        "id": "v_B4jhtonbTD"
      },
      "execution_count": null,
      "outputs": []
    },
    {
      "cell_type": "code",
      "source": [
        "# from pyspark.sql.functions import col, datediff, to_date\n",
        "\n",
        "# # Convert 'Next Date' column to date type\n",
        "# indexed_data = indexed_data.withColumn(\"Next Date\", to_date(col(\"Next Date\"), \"MM/dd/yyyy\"))\n",
        "\n",
        "# # Create feature vector combining 'Days Since Reference', 'Next Date', and 'LocationIndex'\n",
        "# assembler = VectorAssembler(inputCols=[\"Days Since Reference\", \"Next Date\", \"LocationIndex\"], outputCol=\"features\")\n",
        "# assembled_data = assembler.transform(indexed_data)\n",
        "\n",
        "# # Split data into training and testing sets\n",
        "# (training_data, testing_data) = assembled_data.randomSplit([0.8, 0.2])\n",
        "\n",
        "# # Train a linear regression model\n",
        "# lr = LinearRegression(featuresCol='features', labelCol='HCHO Reading')\n",
        "# lr_model = lr.fit(training_data)\n",
        "\n",
        "# # Make predictions on testing data\n",
        "# predictions = lr_model.transform(testing_data)\n",
        "\n",
        "# # Replace missing values in 'HCHO Reading' column with predicted values\n",
        "# imputed_data = interpolated_data.join(predictions.select('Current Date', 'Next Date', 'Location', 'prediction'),\n",
        "#                                       on=['Current Date', 'Next Date', 'Location'], how='left')\n",
        "\n",
        "# imputed_data = imputed_data.withColumn('HCHO Reading',\n",
        "#                                        when(col('HCHO Reading').isNull(), col('prediction'))\n",
        "#                                        .otherwise(col('HCHO Reading')))\n",
        "\n",
        "# # Drop the 'prediction' column\n",
        "# imputed_data = imputed_data.drop('prediction')\n",
        "\n",
        "# # Show the imputed data\n",
        "# imputed_data.show()"
      ],
      "metadata": {
        "id": "75ybk7ylnyn4"
      },
      "execution_count": null,
      "outputs": []
    },
    {
      "cell_type": "code",
      "source": [
        "# from pyspark.sql.functions import col, datediff, to_date, lit\n",
        "\n",
        "# # Convert 'Next Date' column to date type\n",
        "# indexed_data = indexed_data.withColumn(\"Next Date\", to_date(col(\"Next Date\"), \"yyyy/MM/dd\"))\n",
        "\n",
        "# # Calculate the number of days since a reference date for 'Current Date' and 'Next Date'\n",
        "# reference_date = indexed_data.selectExpr(\"min(`Current Date`)\")\n",
        "# reference_date_value = reference_date.collect()[0][0]\n",
        "\n",
        "# indexed_data = indexed_data.withColumn(\"Days Since Reference\", datediff(col(\"Current Date\"), lit(reference_date_value)))\n",
        "\n",
        "# # Create feature vector combining 'Days Since Reference', 'Next Date', and 'LocationIndex'\n",
        "# assembler = VectorAssembler(inputCols=[\"Days Since Reference\", \"Next Date\", \"LocationIndex\"], outputCol=\"features\")\n",
        "# assembled_data = assembler.transform(indexed_data)\n",
        "\n",
        "# # Split data into training and testing sets\n",
        "# (training_data, testing_data) = assembled_data.randomSplit([0.8, 0.2])\n",
        "\n",
        "# # Train a linear regression model\n",
        "# lr = LinearRegression(featuresCol='features', labelCol='HCHO Reading')\n",
        "# lr_model = lr.fit(training_data)\n",
        "\n",
        "# # Make predictions on testing data\n",
        "# predictions = lr_model.transform(testing_data)\n",
        "\n",
        "# # Replace missing values in 'HCHO Reading' column with predicted values\n",
        "# imputed_data = interpolated_data.join(predictions.select('Current Date', 'Next Date', 'Location', 'prediction'),\n",
        "#                                       on=['Current Date', 'Next Date', 'Location'], how='left')\n",
        "\n",
        "# imputed_data = imputed_data.withColumn('HCHO Reading',\n",
        "#                                        when(col('HCHO Reading').isNull(), col('prediction'))\n",
        "#                                        .otherwise(col('HCHO Reading')))\n",
        "\n",
        "# # Drop the 'prediction' column\n",
        "# imputed_data = imputed_data.drop('prediction')\n",
        "\n",
        "# # Show the imputed data\n",
        "# imputed_data.show()\n"
      ],
      "metadata": {
        "id": "VU78kxGWocST"
      },
      "execution_count": null,
      "outputs": []
    },
    {
      "cell_type": "code",
      "source": [
        "# import pandas as pd\n",
        "# import matplotlib.pyplot as plt\n",
        "\n",
        "# # Load data from CSV files\n",
        "# col_mat_nuw_data = pd.read_csv('/content/drive/My Drive/Data Engineering/col_mat_nuw_output.csv')\n",
        "# mon_kur_jaf_data = pd.read_csv('/content/drive/My Drive/Data Engineering/kan_output.csv')\n",
        "# kan_data = pd.read_csv(\"/content/drive/My Drive/Data Engineering/mon_kur_jaf_output.csv\")\n",
        "\n",
        "# # Concatenate data from all files into a single DataFrame\n",
        "# all_data = pd.concat([col_mat_nuw_data, mon_kur_jaf_data, kan_data])\n",
        "\n",
        "\n",
        "\n",
        "\n",
        "# # Data Preprocessing\n",
        "# # Convert 'HCHO Reading' to numeric\n",
        "# all_data['HCHO Reading'] = pd.to_numeric(all_data['HCHO Reading'], errors='coerce')\n",
        "\n",
        "# # Impute missing values with the mean of each city's HCHO readings\n",
        "# all_data['HCHO Reading'] = all_data.groupby('Location')['HCHO Reading'].transform(lambda x: x.fillna(x.mean()))\n",
        "\n",
        "# # Explore Descriptive Statistics\n",
        "# # Summarize statistics for each city\n",
        "# city_statistics = all_data.groupby('Location')['HCHO Reading'].agg(['mean', 'median', 'std'])\n",
        "# print(\"Descriptive Statistics for Each City:\")\n",
        "# print(city_statistics)\n",
        "\n",
        "# # Summarize statistics for entire dataset\n",
        "# overall_statistics = all_data['HCHO Reading'].agg(['mean', 'median', 'std'])\n",
        "# print(\"\\nOverall Dataset Statistics:\")\n",
        "# print(overall_statistics)\n",
        "\n",
        "# # Visualize Data Distribution\n",
        "# # Create histograms for each city\n",
        "# for city, city_data in all_data.groupby('Location'):\n",
        "#     plt.figure(figsize=(8, 6))\n",
        "#     plt.hist(city_data['HCHO Reading'], bins=20, alpha=0.7)\n",
        "#     plt.title(f'Histogram of HCHO Readings in {city}')\n",
        "#     plt.xlabel('HCHO Reading')\n",
        "#     plt.ylabel('Frequency')\n",
        "#     plt.grid(True)\n",
        "#     plt.show()\n"
      ],
      "metadata": {
        "id": "5atkN5zrBdPk"
      },
      "execution_count": null,
      "outputs": []
    },
    {
      "cell_type": "markdown",
      "source": [
        "# **2. Spatio - Temporal Analysis**"
      ],
      "metadata": {
        "id": "1bVEVwvI_foQ"
      }
    },
    {
      "cell_type": "code",
      "source": [
        "# Load data from CSV files\n",
        "col_mat_nuw_data = pd.read_csv(\"/content/drive/My Drive/Data Engineering/col_mat_nuw_output.csv\")\n",
        "mon_kur_jaf_data = pd.read_csv(\"/content/drive/My Drive/Data Engineering/kan_output.csv\")\n",
        "kan_data = pd.read_csv(\"/content/drive/My Drive/Data Engineering/mon_kur_jaf_output.csv\")\n",
        "\n",
        "# Concatenate data from all files\n",
        "all_data = pd.concat([col_mat_nuw_data, mon_kur_jaf_data, kan_data], ignore_index=True)\n",
        "\n",
        "# Data Preprocessing\n",
        "# Remove rows with missing values\n",
        "all_data.dropna(inplace=True)\n",
        "\n",
        "\n",
        "# Display the current column names\n",
        "print(all_data.columns)\n",
        "\n",
        "\n",
        "\n",
        "\n",
        "\n",
        "\n",
        "\n",
        "\n",
        "\n",
        "# Convert date columns to datetime format\n",
        "# all_data['Current Date'] = pd.to_datetime(all_data['Current Date'])\n",
        "# all_data['Next Date'] = pd.to_datetime(all_data['Next Date'])\n",
        "\n",
        "# # Explore descriptive statistics\n",
        "# # Calculate mean, median, and standard deviation for each city\n",
        "# stats_by_city = all_data.groupby('Location')['HCHO reading'].agg(['mean', 'median', 'std'])"
      ],
      "metadata": {
        "id": "q6dct_1GuRCR"
      },
      "execution_count": null,
      "outputs": []
    }
  ],
  "metadata": {
    "colab": {
      "provenance": [],
      "authorship_tag": "ABX9TyNxG0hvgH4ilL6QLAVFbYyK",
      "include_colab_link": true
    },
    "kernelspec": {
      "display_name": "Python 3",
      "name": "python3"
    },
    "language_info": {
      "name": "python"
    }
  },
  "nbformat": 4,
  "nbformat_minor": 0
}