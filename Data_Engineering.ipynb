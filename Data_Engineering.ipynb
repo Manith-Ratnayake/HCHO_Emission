{
  "cells": [
    {
      "cell_type": "markdown",
      "metadata": {
        "id": "view-in-github",
        "colab_type": "text"
      },
      "source": [
        "<a href=\"https://colab.research.google.com/github/Manith-Ratnayake/Data-Enginnering/blob/main/Data_Engineering.ipynb\" target=\"_parent\"><img src=\"https://colab.research.google.com/assets/colab-badge.svg\" alt=\"Open In Colab\"/></a>"
      ]
    },
    {
      "cell_type": "markdown",
      "source": [
        "# **1. Data Pre Proccessing**"
      ],
      "metadata": {
        "id": "HdHbH4ia_ZII"
      }
    },
    {
      "cell_type": "code",
      "execution_count": 19,
      "metadata": {
        "colab": {
          "base_uri": "https://localhost:8080/"
        },
        "id": "Ulssz5GIkcZT",
        "outputId": "e6baedfe-ab75-4872-8377-4f3ac7a9bf91"
      },
      "outputs": [
        {
          "output_type": "stream",
          "name": "stdout",
          "text": [
            "Drive already mounted at /content/drive; to attempt to forcibly remount, call drive.mount(\"/content/drive\", force_remount=True).\n"
          ]
        }
      ],
      "source": [
        "# Google drive and google collab connection\n",
        "from google.colab import drive\n",
        "drive.mount('/content/drive')"
      ]
    },
    {
      "cell_type": "code",
      "execution_count": 20,
      "metadata": {
        "colab": {
          "base_uri": "https://localhost:8080/"
        },
        "id": "IcZNC1s5mcGl",
        "outputId": "ef9fb0e2-4e1b-49e1-e106-bfa9f12b9a2c"
      },
      "outputs": [
        {
          "output_type": "stream",
          "name": "stdout",
          "text": [
            "Requirement already satisfied: pyspark in /usr/local/lib/python3.10/dist-packages (3.5.1)\n",
            "Requirement already satisfied: py4j==0.10.9.7 in /usr/local/lib/python3.10/dist-packages (from pyspark) (0.10.9.7)\n"
          ]
        }
      ],
      "source": [
        "# In google collab pyspark is not pre installed\n",
        "!pip install pyspark"
      ]
    },
    {
      "cell_type": "code",
      "execution_count": 21,
      "metadata": {
        "id": "LvNfzOloGWPg"
      },
      "outputs": [],
      "source": [
        "import pandas as pd\n",
        "import numpy as np\n",
        "import matplotlib.pyplot as plt\n",
        "import seaborn as sns"
      ]
    },
    {
      "cell_type": "code",
      "execution_count": 22,
      "metadata": {
        "id": "DGylog8Yl7Bt"
      },
      "outputs": [],
      "source": [
        "from pyspark.sql import SparkSession\n",
        "from pyspark.sql.functions import col, mean, median, stddev"
      ]
    },
    {
      "cell_type": "code",
      "execution_count": 23,
      "metadata": {
        "id": "iO3U_mhLl-Ml"
      },
      "outputs": [],
      "source": [
        "# Creating a py spark session\n",
        "spark = SparkSession.builder \\\n",
        "    .appName(\"HCHO Analysis\") \\\n",
        "    .getOrCreate()"
      ]
    },
    {
      "cell_type": "code",
      "execution_count": 24,
      "metadata": {
        "colab": {
          "base_uri": "https://localhost:8080/"
        },
        "id": "1G2q5DgIG0Oo",
        "outputId": "4f881f09-c71a-4ca3-a1aa-5ca422b7bf51"
      },
      "outputs": [
        {
          "output_type": "stream",
          "name": "stdout",
          "text": [
            "['_c0', '_c1', '_c2', '_c3']\n",
            "['HCHO Reading', 'Location', 'Current Date', 'Next Date']\n"
          ]
        }
      ],
      "source": [
        "# Reading three files\n",
        "col_mat_nuw_data = spark.read.csv(\"/content/drive/My Drive/Data Engineering/col_mat_nuw_output.csv\", header=False)\n",
        "kan_data = spark.read.csv(\"/content/drive/My Drive/Data Engineering/kan_output.csv\", header=False)\n",
        "mon_kur_jaf_data = spark.read.csv(\"/content/drive/My Drive/Data Engineering/mon_kur_jaf_output.csv\", header=False)\n",
        "\n",
        "# Combining all files into 1 file\n",
        "all_data = col_mat_nuw_data.union(mon_kur_jaf_data).union(kan_data)\n",
        "\n",
        "# Checking the current column names\n",
        "print(all_data.columns)\n",
        "\n",
        "# Changing column name to meaninful name\n",
        "# Rename the columns to more meaningful names\n",
        "all_data = all_data.withColumnRenamed('_c0', 'HCHO Reading') \\\n",
        "                   .withColumnRenamed('_c1', 'Location') \\\n",
        "                   .withColumnRenamed('_c2', 'Current Date') \\\n",
        "                   .withColumnRenamed('_c3', 'Next Date')\n",
        "\n",
        "print(all_data.columns)"
      ]
    },
    {
      "cell_type": "code",
      "source": [
        "from pyspark.sql.functions import col, sum as pyspark_sum\n",
        "\n",
        "# Define a list of column names\n",
        "columns = all_data.columns\n",
        "\n",
        "# Create a dictionary to store the count of missing values for each column\n",
        "missing_value_counts = {}\n",
        "\n",
        "# Loop through each column and count the missing values\n",
        "for col_name in columns:\n",
        "    missing_count = all_data.filter(col(col_name).isNull()).count()\n",
        "    missing_value_counts[col_name] = missing_count\n",
        "\n",
        "# Print the count of missing values for each column\n",
        "print(\"Number of missing values in each column:\")\n",
        "for col_name, count in missing_value_counts.items():\n",
        "    print(col_name, \": \", count)"
      ],
      "metadata": {
        "colab": {
          "base_uri": "https://localhost:8080/"
        },
        "id": "Ygtj0gvI_XfU",
        "outputId": "d2f4043c-8c33-4aa2-f3f5-b046a9afeafb"
      },
      "execution_count": 25,
      "outputs": [
        {
          "output_type": "stream",
          "name": "stdout",
          "text": [
            "Number of missing values in each column:\n",
            "HCHO Reading :  4864\n",
            "Location :  0\n",
            "Current Date :  0\n",
            "Next Date :  0\n"
          ]
        }
      ]
    },
    {
      "cell_type": "code",
      "source": [
        "from pyspark.sql.functions import mean as pyspark_mean, when\n",
        "\n",
        "# Impute missing values for numerical columns with the mean\n",
        "numerical_columns = ['HCHO Reading']  # Assuming 'HCHO Reading' is the only numerical column\n",
        "for col_name in numerical_columns:\n",
        "    mean_value = all_data.select(pyspark_mean(col(col_name)).alias('mean')).collect()[0]['mean']\n",
        "    all_data = all_data.withColumn(col_name, when(col(col_name).isNull(), mean_value).otherwise(col(col_name)))\n",
        "\n",
        "# Impute missing values for categorical columns with the most frequent category\n",
        "categorical_columns = ['Location', 'Current Date', 'Next Date']  # Assuming these are categorical columns\n",
        "for col_name in categorical_columns:\n",
        "    most_frequent_value = all_data.groupBy(col_name).count().orderBy(col('count').desc()).first()[col_name]\n",
        "    all_data = all_data.withColumn(col_name, when(col(col_name).isNull(), most_frequent_value).otherwise(col(col_name)))\n",
        "\n",
        "# Recheck missing values after imputation\n",
        "missing_value_counts_after_imputation = {}\n",
        "for col_name in all_data.columns:\n",
        "    missing_count = all_data.filter(col(col_name).isNull()).count()\n",
        "    missing_value_counts_after_imputation[col_name] = missing_count\n",
        "\n",
        "# Print the count of missing values for each column after imputation\n",
        "print(\"Number of missing values in each column after imputation:\")\n",
        "for col_name, count in missing_value_counts_after_imputation.items():\n",
        "    print(col_name, \": \", count)"
      ],
      "metadata": {
        "colab": {
          "base_uri": "https://localhost:8080/"
        },
        "id": "X3Q-CzkD5Gdj",
        "outputId": "aad44209-cdcc-44d6-d472-a035c0cfa649"
      },
      "execution_count": 32,
      "outputs": [
        {
          "output_type": "stream",
          "name": "stdout",
          "text": [
            "Number of missing values in each column after imputation:\n",
            "HCHO Reading :  0\n",
            "Location :  0\n",
            "Current Date :  0\n",
            "Next Date :  0\n"
          ]
        }
      ]
    },
    {
      "cell_type": "code",
      "source": [
        "import matplotlib.pyplot as plt\n",
        "\n",
        "# Select numerical columns for visualization\n",
        "numerical_columns = ['HCHO Reading']  # Assuming 'HCHO Reading' is the only numerical column\n",
        "\n",
        "# Create boxplots for each numerical column\n",
        "for col_name in numerical_columns:\n",
        "    # Convert column to Pandas DataFrame for visualization\n",
        "    df = all_data.select(col_name).toPandas()\n",
        "\n",
        "    # Create boxplot\n",
        "    plt.figure(figsize=(8, 6))\n",
        "    plt.boxplot(df[col_name], vert=False)\n",
        "    plt.title(f'Boxplot of {col_name}')\n",
        "    plt.xlabel(col_name)\n",
        "    plt.show()\n"
      ],
      "metadata": {
        "colab": {
          "base_uri": "https://localhost:8080/",
          "height": 881
        },
        "id": "PKM0c9sn6SBT",
        "outputId": "3812e74b-6e54-4bf1-95f4-5af6c7681237"
      },
      "execution_count": 33,
      "outputs": [
        {
          "output_type": "error",
          "ename": "TypeError",
          "evalue": "ufunc 'divide' not supported for the input types, and the inputs could not be safely coerced to any supported types according to the casting rule ''safe''",
          "traceback": [
            "\u001b[0;31m---------------------------------------------------------------------------\u001b[0m",
            "\u001b[0;31mTypeError\u001b[0m                                 Traceback (most recent call last)",
            "\u001b[0;32m<ipython-input-33-20b48b2220b3>\u001b[0m in \u001b[0;36m<cell line: 7>\u001b[0;34m()\u001b[0m\n\u001b[1;32m     11\u001b[0m     \u001b[0;31m# Create boxplot\u001b[0m\u001b[0;34m\u001b[0m\u001b[0;34m\u001b[0m\u001b[0m\n\u001b[1;32m     12\u001b[0m     \u001b[0mplt\u001b[0m\u001b[0;34m.\u001b[0m\u001b[0mfigure\u001b[0m\u001b[0;34m(\u001b[0m\u001b[0mfigsize\u001b[0m\u001b[0;34m=\u001b[0m\u001b[0;34m(\u001b[0m\u001b[0;36m8\u001b[0m\u001b[0;34m,\u001b[0m \u001b[0;36m6\u001b[0m\u001b[0;34m)\u001b[0m\u001b[0;34m)\u001b[0m\u001b[0;34m\u001b[0m\u001b[0;34m\u001b[0m\u001b[0m\n\u001b[0;32m---> 13\u001b[0;31m     \u001b[0mplt\u001b[0m\u001b[0;34m.\u001b[0m\u001b[0mboxplot\u001b[0m\u001b[0;34m(\u001b[0m\u001b[0mdf\u001b[0m\u001b[0;34m[\u001b[0m\u001b[0mcol_name\u001b[0m\u001b[0;34m]\u001b[0m\u001b[0;34m,\u001b[0m \u001b[0mvert\u001b[0m\u001b[0;34m=\u001b[0m\u001b[0;32mFalse\u001b[0m\u001b[0;34m)\u001b[0m\u001b[0;34m\u001b[0m\u001b[0;34m\u001b[0m\u001b[0m\n\u001b[0m\u001b[1;32m     14\u001b[0m     \u001b[0mplt\u001b[0m\u001b[0;34m.\u001b[0m\u001b[0mtitle\u001b[0m\u001b[0;34m(\u001b[0m\u001b[0;34mf'Boxplot of {col_name}'\u001b[0m\u001b[0;34m)\u001b[0m\u001b[0;34m\u001b[0m\u001b[0;34m\u001b[0m\u001b[0m\n\u001b[1;32m     15\u001b[0m     \u001b[0mplt\u001b[0m\u001b[0;34m.\u001b[0m\u001b[0mxlabel\u001b[0m\u001b[0;34m(\u001b[0m\u001b[0mcol_name\u001b[0m\u001b[0;34m)\u001b[0m\u001b[0;34m\u001b[0m\u001b[0;34m\u001b[0m\u001b[0m\n",
            "\u001b[0;32m/usr/local/lib/python3.10/dist-packages/matplotlib/pyplot.py\u001b[0m in \u001b[0;36mboxplot\u001b[0;34m(x, notch, sym, vert, whis, positions, widths, patch_artist, bootstrap, usermedians, conf_intervals, meanline, showmeans, showcaps, showbox, showfliers, boxprops, labels, flierprops, medianprops, meanprops, capprops, whiskerprops, manage_ticks, autorange, zorder, capwidths, data)\u001b[0m\n\u001b[1;32m   2481\u001b[0m         \u001b[0mwhiskerprops\u001b[0m\u001b[0;34m=\u001b[0m\u001b[0;32mNone\u001b[0m\u001b[0;34m,\u001b[0m \u001b[0mmanage_ticks\u001b[0m\u001b[0;34m=\u001b[0m\u001b[0;32mTrue\u001b[0m\u001b[0;34m,\u001b[0m \u001b[0mautorange\u001b[0m\u001b[0;34m=\u001b[0m\u001b[0;32mFalse\u001b[0m\u001b[0;34m,\u001b[0m\u001b[0;34m\u001b[0m\u001b[0;34m\u001b[0m\u001b[0m\n\u001b[1;32m   2482\u001b[0m         zorder=None, capwidths=None, *, data=None):\n\u001b[0;32m-> 2483\u001b[0;31m     return gca().boxplot(\n\u001b[0m\u001b[1;32m   2484\u001b[0m         \u001b[0mx\u001b[0m\u001b[0;34m,\u001b[0m \u001b[0mnotch\u001b[0m\u001b[0;34m=\u001b[0m\u001b[0mnotch\u001b[0m\u001b[0;34m,\u001b[0m \u001b[0msym\u001b[0m\u001b[0;34m=\u001b[0m\u001b[0msym\u001b[0m\u001b[0;34m,\u001b[0m \u001b[0mvert\u001b[0m\u001b[0;34m=\u001b[0m\u001b[0mvert\u001b[0m\u001b[0;34m,\u001b[0m \u001b[0mwhis\u001b[0m\u001b[0;34m=\u001b[0m\u001b[0mwhis\u001b[0m\u001b[0;34m,\u001b[0m\u001b[0;34m\u001b[0m\u001b[0;34m\u001b[0m\u001b[0m\n\u001b[1;32m   2485\u001b[0m         \u001b[0mpositions\u001b[0m\u001b[0;34m=\u001b[0m\u001b[0mpositions\u001b[0m\u001b[0;34m,\u001b[0m \u001b[0mwidths\u001b[0m\u001b[0;34m=\u001b[0m\u001b[0mwidths\u001b[0m\u001b[0;34m,\u001b[0m \u001b[0mpatch_artist\u001b[0m\u001b[0;34m=\u001b[0m\u001b[0mpatch_artist\u001b[0m\u001b[0;34m,\u001b[0m\u001b[0;34m\u001b[0m\u001b[0;34m\u001b[0m\u001b[0m\n",
            "\u001b[0;32m/usr/local/lib/python3.10/dist-packages/matplotlib/__init__.py\u001b[0m in \u001b[0;36minner\u001b[0;34m(ax, data, *args, **kwargs)\u001b[0m\n\u001b[1;32m   1440\u001b[0m     \u001b[0;32mdef\u001b[0m \u001b[0minner\u001b[0m\u001b[0;34m(\u001b[0m\u001b[0max\u001b[0m\u001b[0;34m,\u001b[0m \u001b[0;34m*\u001b[0m\u001b[0margs\u001b[0m\u001b[0;34m,\u001b[0m \u001b[0mdata\u001b[0m\u001b[0;34m=\u001b[0m\u001b[0;32mNone\u001b[0m\u001b[0;34m,\u001b[0m \u001b[0;34m**\u001b[0m\u001b[0mkwargs\u001b[0m\u001b[0;34m)\u001b[0m\u001b[0;34m:\u001b[0m\u001b[0;34m\u001b[0m\u001b[0;34m\u001b[0m\u001b[0m\n\u001b[1;32m   1441\u001b[0m         \u001b[0;32mif\u001b[0m \u001b[0mdata\u001b[0m \u001b[0;32mis\u001b[0m \u001b[0;32mNone\u001b[0m\u001b[0;34m:\u001b[0m\u001b[0;34m\u001b[0m\u001b[0;34m\u001b[0m\u001b[0m\n\u001b[0;32m-> 1442\u001b[0;31m             \u001b[0;32mreturn\u001b[0m \u001b[0mfunc\u001b[0m\u001b[0;34m(\u001b[0m\u001b[0max\u001b[0m\u001b[0;34m,\u001b[0m \u001b[0;34m*\u001b[0m\u001b[0mmap\u001b[0m\u001b[0;34m(\u001b[0m\u001b[0msanitize_sequence\u001b[0m\u001b[0;34m,\u001b[0m \u001b[0margs\u001b[0m\u001b[0;34m)\u001b[0m\u001b[0;34m,\u001b[0m \u001b[0;34m**\u001b[0m\u001b[0mkwargs\u001b[0m\u001b[0;34m)\u001b[0m\u001b[0;34m\u001b[0m\u001b[0;34m\u001b[0m\u001b[0m\n\u001b[0m\u001b[1;32m   1443\u001b[0m \u001b[0;34m\u001b[0m\u001b[0m\n\u001b[1;32m   1444\u001b[0m         \u001b[0mbound\u001b[0m \u001b[0;34m=\u001b[0m \u001b[0mnew_sig\u001b[0m\u001b[0;34m.\u001b[0m\u001b[0mbind\u001b[0m\u001b[0;34m(\u001b[0m\u001b[0max\u001b[0m\u001b[0;34m,\u001b[0m \u001b[0;34m*\u001b[0m\u001b[0margs\u001b[0m\u001b[0;34m,\u001b[0m \u001b[0;34m**\u001b[0m\u001b[0mkwargs\u001b[0m\u001b[0;34m)\u001b[0m\u001b[0;34m\u001b[0m\u001b[0;34m\u001b[0m\u001b[0m\n",
            "\u001b[0;32m/usr/local/lib/python3.10/dist-packages/matplotlib/axes/_axes.py\u001b[0m in \u001b[0;36mboxplot\u001b[0;34m(self, x, notch, sym, vert, whis, positions, widths, patch_artist, bootstrap, usermedians, conf_intervals, meanline, showmeans, showcaps, showbox, showfliers, boxprops, labels, flierprops, medianprops, meanprops, capprops, whiskerprops, manage_ticks, autorange, zorder, capwidths)\u001b[0m\n\u001b[1;32m   3912\u001b[0m             \u001b[0mbootstrap\u001b[0m \u001b[0;34m=\u001b[0m \u001b[0mmpl\u001b[0m\u001b[0;34m.\u001b[0m\u001b[0mrcParams\u001b[0m\u001b[0;34m[\u001b[0m\u001b[0;34m'boxplot.bootstrap'\u001b[0m\u001b[0;34m]\u001b[0m\u001b[0;34m\u001b[0m\u001b[0;34m\u001b[0m\u001b[0m\n\u001b[1;32m   3913\u001b[0m \u001b[0;34m\u001b[0m\u001b[0m\n\u001b[0;32m-> 3914\u001b[0;31m         bxpstats = cbook.boxplot_stats(x, whis=whis, bootstrap=bootstrap,\n\u001b[0m\u001b[1;32m   3915\u001b[0m                                        labels=labels, autorange=autorange)\n\u001b[1;32m   3916\u001b[0m         \u001b[0;32mif\u001b[0m \u001b[0mnotch\u001b[0m \u001b[0;32mis\u001b[0m \u001b[0;32mNone\u001b[0m\u001b[0;34m:\u001b[0m\u001b[0;34m\u001b[0m\u001b[0;34m\u001b[0m\u001b[0m\n",
            "\u001b[0;32m/usr/local/lib/python3.10/dist-packages/matplotlib/cbook/__init__.py\u001b[0m in \u001b[0;36mboxplot_stats\u001b[0;34m(X, whis, bootstrap, labels, autorange)\u001b[0m\n\u001b[1;32m   1230\u001b[0m \u001b[0;34m\u001b[0m\u001b[0m\n\u001b[1;32m   1231\u001b[0m         \u001b[0;31m# arithmetic mean\u001b[0m\u001b[0;34m\u001b[0m\u001b[0;34m\u001b[0m\u001b[0m\n\u001b[0;32m-> 1232\u001b[0;31m         \u001b[0mstats\u001b[0m\u001b[0;34m[\u001b[0m\u001b[0;34m'mean'\u001b[0m\u001b[0;34m]\u001b[0m \u001b[0;34m=\u001b[0m \u001b[0mnp\u001b[0m\u001b[0;34m.\u001b[0m\u001b[0mmean\u001b[0m\u001b[0;34m(\u001b[0m\u001b[0mx\u001b[0m\u001b[0;34m)\u001b[0m\u001b[0;34m\u001b[0m\u001b[0;34m\u001b[0m\u001b[0m\n\u001b[0m\u001b[1;32m   1233\u001b[0m \u001b[0;34m\u001b[0m\u001b[0m\n\u001b[1;32m   1234\u001b[0m         \u001b[0;31m# medians and quartiles\u001b[0m\u001b[0;34m\u001b[0m\u001b[0;34m\u001b[0m\u001b[0m\n",
            "\u001b[0;32m/usr/local/lib/python3.10/dist-packages/numpy/core/fromnumeric.py\u001b[0m in \u001b[0;36mmean\u001b[0;34m(a, axis, dtype, out, keepdims, where)\u001b[0m\n\u001b[1;32m   3502\u001b[0m             \u001b[0;32mreturn\u001b[0m \u001b[0mmean\u001b[0m\u001b[0;34m(\u001b[0m\u001b[0maxis\u001b[0m\u001b[0;34m=\u001b[0m\u001b[0maxis\u001b[0m\u001b[0;34m,\u001b[0m \u001b[0mdtype\u001b[0m\u001b[0;34m=\u001b[0m\u001b[0mdtype\u001b[0m\u001b[0;34m,\u001b[0m \u001b[0mout\u001b[0m\u001b[0;34m=\u001b[0m\u001b[0mout\u001b[0m\u001b[0;34m,\u001b[0m \u001b[0;34m**\u001b[0m\u001b[0mkwargs\u001b[0m\u001b[0;34m)\u001b[0m\u001b[0;34m\u001b[0m\u001b[0;34m\u001b[0m\u001b[0m\n\u001b[1;32m   3503\u001b[0m \u001b[0;34m\u001b[0m\u001b[0m\n\u001b[0;32m-> 3504\u001b[0;31m     return _methods._mean(a, axis=axis, dtype=dtype,\n\u001b[0m\u001b[1;32m   3505\u001b[0m                           out=out, **kwargs)\n\u001b[1;32m   3506\u001b[0m \u001b[0;34m\u001b[0m\u001b[0m\n",
            "\u001b[0;32m/usr/local/lib/python3.10/dist-packages/numpy/core/_methods.py\u001b[0m in \u001b[0;36m_mean\u001b[0;34m(a, axis, dtype, out, keepdims, where)\u001b[0m\n\u001b[1;32m    129\u001b[0m             \u001b[0mret\u001b[0m \u001b[0;34m=\u001b[0m \u001b[0mret\u001b[0m\u001b[0;34m.\u001b[0m\u001b[0mdtype\u001b[0m\u001b[0;34m.\u001b[0m\u001b[0mtype\u001b[0m\u001b[0;34m(\u001b[0m\u001b[0mret\u001b[0m \u001b[0;34m/\u001b[0m \u001b[0mrcount\u001b[0m\u001b[0;34m)\u001b[0m\u001b[0;34m\u001b[0m\u001b[0;34m\u001b[0m\u001b[0m\n\u001b[1;32m    130\u001b[0m     \u001b[0;32melse\u001b[0m\u001b[0;34m:\u001b[0m\u001b[0;34m\u001b[0m\u001b[0;34m\u001b[0m\u001b[0m\n\u001b[0;32m--> 131\u001b[0;31m         \u001b[0mret\u001b[0m \u001b[0;34m=\u001b[0m \u001b[0mret\u001b[0m \u001b[0;34m/\u001b[0m \u001b[0mrcount\u001b[0m\u001b[0;34m\u001b[0m\u001b[0;34m\u001b[0m\u001b[0m\n\u001b[0m\u001b[1;32m    132\u001b[0m \u001b[0;34m\u001b[0m\u001b[0m\n\u001b[1;32m    133\u001b[0m     \u001b[0;32mreturn\u001b[0m \u001b[0mret\u001b[0m\u001b[0;34m\u001b[0m\u001b[0;34m\u001b[0m\u001b[0m\n",
            "\u001b[0;31mTypeError\u001b[0m: ufunc 'divide' not supported for the input types, and the inputs could not be safely coerced to any supported types according to the casting rule ''safe''"
          ]
        },
        {
          "output_type": "display_data",
          "data": {
            "text/plain": [
              "<Figure size 800x600 with 1 Axes>"
            ],
            "image/png": "[encoded data removed]"
          },
          "metadata": {}
        }
      ]
    },
    {
      "cell_type": "code",
      "source": [
        "import matplotlib.pyplot as plt\n",
        "import pandas as pd\n",
        "\n",
        "# Select numerical columns for visualization\n",
        "numerical_columns = ['HCHO Reading']  # Assuming 'HCHO Reading' is the only numerical column\n",
        "\n",
        "# Create boxplots for each numerical column\n",
        "for col_name in numerical_columns:\n",
        "    # Convert column to Pandas DataFrame for visualization\n",
        "    df = all_data.select(col_name).toPandas()\n",
        "\n",
        "    # Convert the column to the appropriate numeric type (optional, but might resolve the error)\n",
        "    df[col_name] = pd.to_numeric(df[col_name])\n",
        "\n",
        "    # Create boxplot\n",
        "    plt.figure(figsize=(8, 6))\n",
        "    plt.boxplot(df[col_name], vert=False)\n",
        "    plt.title(f'Boxplot of {col_name}')\n",
        "    plt.xlabel(col_name)\n",
        "    plt.show()\n"
      ],
      "metadata": {
        "colab": {
          "base_uri": "https://localhost:8080/",
          "height": 564
        },
        "id": "skWRLIBl6eHU",
        "outputId": "e154fa17-c62c-4c70-fb44-53085fff0e21"
      },
      "execution_count": 34,
      "outputs": [
        {
          "output_type": "display_data",
          "data": {
            "text/plain": [
              "<Figure size 800x600 with 1 Axes>"
            ],
            "image/png": "[encoded data removed]"
          },
          "metadata": {}
        }
      ]
    },
    {
      "cell_type": "code",
      "source": [
        "from pyspark.sql.functions import mean, median, stddev\n",
        "\n",
        "# Calculate descriptive statistics for each city\n",
        "city_statistics = all_data.groupBy('Location') \\\n",
        "    .agg(mean('HCHO Reading').alias('Mean HCHO Reading'),\n",
        "         median('HCHO Reading').alias('Median HCHO Reading'),\n",
        "         stddev('HCHO Reading').alias('Stddev HCHO Reading'))\n",
        "\n",
        "# Calculate descriptive statistics across the entire dataset\n",
        "overall_statistics = all_data.agg(mean('HCHO Reading').alias('Overall Mean HCHO Reading'),\n",
        "                                  median('HCHO Reading').alias('Overall Median HCHO Reading'),\n",
        "                                  stddev('HCHO Reading').alias('Overall Stddev HCHO Reading'))\n",
        "\n",
        "# Show descriptive statistics for each city\n",
        "print(\"Descriptive statistics for each city:\")\n",
        "city_statistics.show()\n",
        "\n",
        "# Show descriptive statistics across the entire dataset\n",
        "print(\"Descriptive statistics across the entire dataset:\")\n",
        "overall_statistics.show()\n"
      ],
      "metadata": {
        "colab": {
          "base_uri": "https://localhost:8080/"
        },
        "id": "8ad4L7Oe60ux",
        "outputId": "86470626-8c2a-4f5f-c6aa-a0c3d9bb92a3"
      },
      "execution_count": 35,
      "outputs": [
        {
          "output_type": "stream",
          "name": "stdout",
          "text": [
            "Descriptive statistics for each city:\n",
            "+-------------------+--------------------+--------------------+--------------------+\n",
            "|           Location|   Mean HCHO Reading| Median HCHO Reading| Stddev HCHO Reading|\n",
            "+-------------------+--------------------+--------------------+--------------------+\n",
            "|   Deniyaya, Matara|1.044686072749091...|1.192778916513748...|7.246053723404124E-5|\n",
            "|     Colombo Proper|1.480916996036323...|1.192778916513748...| 8.67733015675361E-5|\n",
            "|Nuwara Eliya Proper|1.065550795445532...|1.192778916513748...|5.545511452384686E-5|\n",
            "|  Kurunegala Proper|1.292407039248092...|1.192778916513748...|7.165767483552864E-5|\n",
            "| Bibile, Monaragala|1.237086665854354...|1.192778916513748...|7.406584214357455E-5|\n",
            "|      Jaffna Proper|1.109013636756122...|1.192778916513748...|7.028672595049762E-5|\n",
            "|       Kandy Proper|1.119791209506632E-4|1.192778916513748...| 6.94968491286915E-5|\n",
            "+-------------------+--------------------+--------------------+--------------------+\n",
            "\n",
            "Descriptive statistics across the entire dataset:\n",
            "+-------------------------+---------------------------+---------------------------+\n",
            "|Overall Mean HCHO Reading|Overall Median HCHO Reading|Overall Stddev HCHO Reading|\n",
            "+-------------------------+---------------------------+---------------------------+\n",
            "|     1.192778916513727...|       1.192778916513748...|        7.33707400652483E-5|\n",
            "+-------------------------+---------------------------+---------------------------+\n",
            "\n"
          ]
        }
      ]
    },
    {
      "cell_type": "code",
      "source": [
        "import matplotlib.pyplot as plt\n",
        "import seaborn as sns\n",
        "import pandas as pd\n",
        "\n",
        "# Convert PySpark DataFrame to Pandas DataFrame\n",
        "hcho_data_pd = all_data.select('HCHO Reading').toPandas()\n",
        "\n",
        "# Set plot style\n",
        "sns.set_style(\"whitegrid\")\n",
        "\n",
        "# Create histogram\n",
        "plt.figure(figsize=(10, 6))\n",
        "sns.histplot(data=hcho_data_pd, x='HCHO Reading', bins=20, kde=True)\n",
        "plt.title('Histogram of HCHO Levels')\n",
        "plt.xlabel('HCHO Reading')\n",
        "plt.ylabel('Frequency')\n",
        "plt.show()\n",
        "\n",
        "# Create boxplot\n",
        "plt.figure(figsize=(8, 6))\n",
        "sns.boxplot(data=hcho_data_pd, y='HCHO Reading')\n",
        "plt.title('Boxplot of HCHO Levels')\n",
        "plt.ylabel('HCHO Reading')\n",
        "plt.show()\n"
      ],
      "metadata": {
        "colab": {
          "base_uri": "https://localhost:8080/",
          "height": 1000
        },
        "id": "SGcD3tp67P_E",
        "outputId": "30fde1cc-2781-49ff-d63a-9732dff8d762"
      },
      "execution_count": 36,
      "outputs": [
        {
          "output_type": "display_data",
          "data": {
            "text/plain": [
              "<Figure size 1000x600 with 1 Axes>"
            ],
            "image/png": "[encoded data removed]"
          },
          "metadata": {}
        },
        {
          "output_type": "display_data",
          "data": {
            "text/plain": [
              "<Figure size 800x600 with 1 Axes>"
            ],
            "image/png": "[encoded data removed]"
          },
          "metadata": {}
        }
      ]
    },
    {
      "cell_type": "code",
      "source": [],
      "metadata": {
        "id": "Cm-qRfGG8_VN"
      },
      "execution_count": null,
      "outputs": []
    },
    {
      "cell_type": "code",
      "source": [
        "import pandas as pd\n",
        "from statsmodels.tsa.arima.model import ARIMA\n",
        "from pyspark.sql import SparkSession\n",
        "from pyspark.sql.functions import col\n",
        "\n",
        "\n",
        "\n",
        "# Convert PySpark DataFrame to Pandas DataFrame\n",
        "hcho_data_pd = all_data.select('Current Date', 'HCHO Reading') \\\n",
        "                       .orderBy('Current Date') \\\n",
        "                       .toPandas()\n",
        "\n",
        "# Ensure 'Current Date' column is in datetime format\n",
        "hcho_data_pd['Current Date'] = pd.to_datetime(hcho_data_pd['Current Date'])\n",
        "\n",
        "# Set 'Current Date' as index\n",
        "hcho_data_pd.set_index('Current Date', inplace=True)\n",
        "\n",
        "# Split data into train and test sets\n",
        "train_data = hcho_data_pd.iloc[:int(0.8 * len(hcho_data_pd))]\n",
        "test_data = hcho_data_pd.iloc[int(0.8 * len(hcho_data_pd)):]\n",
        "\n",
        "# Define and fit ARIMA model\n",
        "order = (5, 1, 0)  # Example order (p, d, q)\n",
        "arima_model = ARIMA(train_data, order=order)\n",
        "arima_result = arima_model.fit()\n",
        "\n",
        "# Forecast future HCHO levels\n",
        "forecast_steps = len(test_data)\n",
        "forecast = arima_result.forecast(steps=forecast_steps)\n",
        "\n",
        "# Evaluate the model (optional)\n",
        "# You can use appropriate evaluation metrics such as RMSE, MAE, etc.\n",
        "\n",
        "# Convert forecast result to PySpark DataFrame\n",
        "forecast_df = spark.createDataFrame(zip(test_data.index, forecast), schema=['Current Date', 'Forecast HCHO'])\n",
        "\n",
        "# Show forecast results\n",
        "forecast_df.show()"
      ],
      "metadata": {
        "colab": {
          "base_uri": "https://localhost:8080/",
          "height": 370
        },
        "id": "ZV09i7ET7-fF",
        "outputId": "ec1de152-9338-4671-ffdc-f31aa09ce440"
      },
      "execution_count": 38,
      "outputs": [
        {
          "output_type": "error",
          "ename": "ValueError",
          "evalue": "Pandas data cast to numpy dtype of object. Check input data with np.asarray(data).",
          "traceback": [
            "\u001b[0;31m---------------------------------------------------------------------------\u001b[0m",
            "\u001b[0;31mValueError\u001b[0m                                Traceback (most recent call last)",
            "\u001b[0;32m<ipython-input-38-48facb524575>\u001b[0m in \u001b[0;36m<cell line: 25>\u001b[0;34m()\u001b[0m\n\u001b[1;32m     23\u001b[0m \u001b[0;31m# Define and fit ARIMA model\u001b[0m\u001b[0;34m\u001b[0m\u001b[0;34m\u001b[0m\u001b[0m\n\u001b[1;32m     24\u001b[0m \u001b[0morder\u001b[0m \u001b[0;34m=\u001b[0m \u001b[0;34m(\u001b[0m\u001b[0;36m5\u001b[0m\u001b[0;34m,\u001b[0m \u001b[0;36m1\u001b[0m\u001b[0;34m,\u001b[0m \u001b[0;36m0\u001b[0m\u001b[0;34m)\u001b[0m  \u001b[0;31m# Example order (p, d, q)\u001b[0m\u001b[0;34m\u001b[0m\u001b[0;34m\u001b[0m\u001b[0m\n\u001b[0;32m---> 25\u001b[0;31m \u001b[0marima_model\u001b[0m \u001b[0;34m=\u001b[0m \u001b[0mARIMA\u001b[0m\u001b[0;34m(\u001b[0m\u001b[0mtrain_data\u001b[0m\u001b[0;34m,\u001b[0m \u001b[0morder\u001b[0m\u001b[0;34m=\u001b[0m\u001b[0morder\u001b[0m\u001b[0;34m)\u001b[0m\u001b[0;34m\u001b[0m\u001b[0;34m\u001b[0m\u001b[0m\n\u001b[0m\u001b[1;32m     26\u001b[0m \u001b[0marima_result\u001b[0m \u001b[0;34m=\u001b[0m \u001b[0marima_model\u001b[0m\u001b[0;34m.\u001b[0m\u001b[0mfit\u001b[0m\u001b[0;34m(\u001b[0m\u001b[0;34m)\u001b[0m\u001b[0;34m\u001b[0m\u001b[0;34m\u001b[0m\u001b[0m\n\u001b[1;32m     27\u001b[0m \u001b[0;34m\u001b[0m\u001b[0m\n",
            "\u001b[0;32m/usr/local/lib/python3.10/dist-packages/statsmodels/tsa/arima/model.py\u001b[0m in \u001b[0;36m__init__\u001b[0;34m(self, endog, exog, order, seasonal_order, trend, enforce_stationarity, enforce_invertibility, concentrate_scale, trend_offset, dates, freq, missing, validate_specification)\u001b[0m\n\u001b[1;32m    156\u001b[0m         \u001b[0;31m# this criteria. Instead, we'll just make sure that the parameter\u001b[0m\u001b[0;34m\u001b[0m\u001b[0;34m\u001b[0m\u001b[0m\n\u001b[1;32m    157\u001b[0m         \u001b[0;31m# estimates from those methods satisfy the criteria.)\u001b[0m\u001b[0;34m\u001b[0m\u001b[0;34m\u001b[0m\u001b[0m\n\u001b[0;32m--> 158\u001b[0;31m         self._spec_arima = SARIMAXSpecification(\n\u001b[0m\u001b[1;32m    159\u001b[0m             \u001b[0mendog\u001b[0m\u001b[0;34m,\u001b[0m \u001b[0mexog\u001b[0m\u001b[0;34m=\u001b[0m\u001b[0mexog\u001b[0m\u001b[0;34m,\u001b[0m \u001b[0morder\u001b[0m\u001b[0;34m=\u001b[0m\u001b[0morder\u001b[0m\u001b[0;34m,\u001b[0m \u001b[0mseasonal_order\u001b[0m\u001b[0;34m=\u001b[0m\u001b[0mseasonal_order\u001b[0m\u001b[0;34m,\u001b[0m\u001b[0;34m\u001b[0m\u001b[0;34m\u001b[0m\u001b[0m\n\u001b[1;32m    160\u001b[0m             \u001b[0mtrend\u001b[0m\u001b[0;34m=\u001b[0m\u001b[0mtrend\u001b[0m\u001b[0;34m,\u001b[0m \u001b[0menforce_stationarity\u001b[0m\u001b[0;34m=\u001b[0m\u001b[0;32mNone\u001b[0m\u001b[0;34m,\u001b[0m \u001b[0menforce_invertibility\u001b[0m\u001b[0;34m=\u001b[0m\u001b[0;32mNone\u001b[0m\u001b[0;34m,\u001b[0m\u001b[0;34m\u001b[0m\u001b[0;34m\u001b[0m\u001b[0m\n",
            "\u001b[0;32m/usr/local/lib/python3.10/dist-packages/statsmodels/tsa/arima/specification.py\u001b[0m in \u001b[0;36m__init__\u001b[0;34m(self, endog, exog, order, seasonal_order, ar_order, diff, ma_order, seasonal_ar_order, seasonal_diff, seasonal_ma_order, seasonal_periods, trend, enforce_stationarity, enforce_invertibility, concentrate_scale, trend_offset, dates, freq, missing, validate_specification)\u001b[0m\n\u001b[1;32m    444\u001b[0m         \u001b[0;31m# especially validating shapes, retrieving names, and potentially\u001b[0m\u001b[0;34m\u001b[0m\u001b[0;34m\u001b[0m\u001b[0m\n\u001b[1;32m    445\u001b[0m         \u001b[0;31m# providing us with a time series index\u001b[0m\u001b[0;34m\u001b[0m\u001b[0;34m\u001b[0m\u001b[0m\n\u001b[0;32m--> 446\u001b[0;31m         self._model = TimeSeriesModel(endog, exog=exog, dates=dates, freq=freq,\n\u001b[0m\u001b[1;32m    447\u001b[0m                                       missing=missing)\n\u001b[1;32m    448\u001b[0m         \u001b[0mself\u001b[0m\u001b[0;34m.\u001b[0m\u001b[0mendog\u001b[0m \u001b[0;34m=\u001b[0m \u001b[0;32mNone\u001b[0m \u001b[0;32mif\u001b[0m \u001b[0mfaux_endog\u001b[0m \u001b[0;32melse\u001b[0m \u001b[0mself\u001b[0m\u001b[0;34m.\u001b[0m\u001b[0m_model\u001b[0m\u001b[0;34m.\u001b[0m\u001b[0mendog\u001b[0m\u001b[0;34m\u001b[0m\u001b[0;34m\u001b[0m\u001b[0m\n",
            "\u001b[0;32m/usr/local/lib/python3.10/dist-packages/statsmodels/tsa/base/tsa_model.py\u001b[0m in \u001b[0;36m__init__\u001b[0;34m(self, endog, exog, dates, freq, missing, **kwargs)\u001b[0m\n\u001b[1;32m    468\u001b[0m         \u001b[0mself\u001b[0m\u001b[0;34m,\u001b[0m \u001b[0mendog\u001b[0m\u001b[0;34m,\u001b[0m \u001b[0mexog\u001b[0m\u001b[0;34m=\u001b[0m\u001b[0;32mNone\u001b[0m\u001b[0;34m,\u001b[0m \u001b[0mdates\u001b[0m\u001b[0;34m=\u001b[0m\u001b[0;32mNone\u001b[0m\u001b[0;34m,\u001b[0m \u001b[0mfreq\u001b[0m\u001b[0;34m=\u001b[0m\u001b[0;32mNone\u001b[0m\u001b[0;34m,\u001b[0m \u001b[0mmissing\u001b[0m\u001b[0;34m=\u001b[0m\u001b[0;34m\"none\"\u001b[0m\u001b[0;34m,\u001b[0m \u001b[0;34m**\u001b[0m\u001b[0mkwargs\u001b[0m\u001b[0;34m\u001b[0m\u001b[0;34m\u001b[0m\u001b[0m\n\u001b[1;32m    469\u001b[0m     ):\n\u001b[0;32m--> 470\u001b[0;31m         \u001b[0msuper\u001b[0m\u001b[0;34m(\u001b[0m\u001b[0;34m)\u001b[0m\u001b[0;34m.\u001b[0m\u001b[0m__init__\u001b[0m\u001b[0;34m(\u001b[0m\u001b[0mendog\u001b[0m\u001b[0;34m,\u001b[0m \u001b[0mexog\u001b[0m\u001b[0;34m,\u001b[0m \u001b[0mmissing\u001b[0m\u001b[0;34m=\u001b[0m\u001b[0mmissing\u001b[0m\u001b[0;34m,\u001b[0m \u001b[0;34m**\u001b[0m\u001b[0mkwargs\u001b[0m\u001b[0;34m)\u001b[0m\u001b[0;34m\u001b[0m\u001b[0;34m\u001b[0m\u001b[0m\n\u001b[0m\u001b[1;32m    471\u001b[0m \u001b[0;34m\u001b[0m\u001b[0m\n\u001b[1;32m    472\u001b[0m         \u001b[0;31m# Date handling in indexes\u001b[0m\u001b[0;34m\u001b[0m\u001b[0;34m\u001b[0m\u001b[0m\n",
            "\u001b[0;32m/usr/local/lib/python3.10/dist-packages/statsmodels/base/model.py\u001b[0m in \u001b[0;36m__init__\u001b[0;34m(self, endog, exog, **kwargs)\u001b[0m\n\u001b[1;32m    268\u001b[0m \u001b[0;34m\u001b[0m\u001b[0m\n\u001b[1;32m    269\u001b[0m     \u001b[0;32mdef\u001b[0m \u001b[0m__init__\u001b[0m\u001b[0;34m(\u001b[0m\u001b[0mself\u001b[0m\u001b[0;34m,\u001b[0m \u001b[0mendog\u001b[0m\u001b[0;34m,\u001b[0m \u001b[0mexog\u001b[0m\u001b[0;34m=\u001b[0m\u001b[0;32mNone\u001b[0m\u001b[0;34m,\u001b[0m \u001b[0;34m**\u001b[0m\u001b[0mkwargs\u001b[0m\u001b[0;34m)\u001b[0m\u001b[0;34m:\u001b[0m\u001b[0;34m\u001b[0m\u001b[0;34m\u001b[0m\u001b[0m\n\u001b[0;32m--> 270\u001b[0;31m         \u001b[0msuper\u001b[0m\u001b[0;34m(\u001b[0m\u001b[0;34m)\u001b[0m\u001b[0;34m.\u001b[0m\u001b[0m__init__\u001b[0m\u001b[0;34m(\u001b[0m\u001b[0mendog\u001b[0m\u001b[0;34m,\u001b[0m \u001b[0mexog\u001b[0m\u001b[0;34m,\u001b[0m \u001b[0;34m**\u001b[0m\u001b[0mkwargs\u001b[0m\u001b[0;34m)\u001b[0m\u001b[0;34m\u001b[0m\u001b[0;34m\u001b[0m\u001b[0m\n\u001b[0m\u001b[1;32m    271\u001b[0m         \u001b[0mself\u001b[0m\u001b[0;34m.\u001b[0m\u001b[0minitialize\u001b[0m\u001b[0;34m(\u001b[0m\u001b[0;34m)\u001b[0m\u001b[0;34m\u001b[0m\u001b[0;34m\u001b[0m\u001b[0m\n\u001b[1;32m    272\u001b[0m \u001b[0;34m\u001b[0m\u001b[0m\n",
            "\u001b[0;32m/usr/local/lib/python3.10/dist-packages/statsmodels/base/model.py\u001b[0m in \u001b[0;36m__init__\u001b[0;34m(self, endog, exog, **kwargs)\u001b[0m\n\u001b[1;32m     93\u001b[0m         \u001b[0mmissing\u001b[0m \u001b[0;34m=\u001b[0m \u001b[0mkwargs\u001b[0m\u001b[0;34m.\u001b[0m\u001b[0mpop\u001b[0m\u001b[0;34m(\u001b[0m\u001b[0;34m'missing'\u001b[0m\u001b[0;34m,\u001b[0m \u001b[0;34m'none'\u001b[0m\u001b[0;34m)\u001b[0m\u001b[0;34m\u001b[0m\u001b[0;34m\u001b[0m\u001b[0m\n\u001b[1;32m     94\u001b[0m         \u001b[0mhasconst\u001b[0m \u001b[0;34m=\u001b[0m \u001b[0mkwargs\u001b[0m\u001b[0;34m.\u001b[0m\u001b[0mpop\u001b[0m\u001b[0;34m(\u001b[0m\u001b[0;34m'hasconst'\u001b[0m\u001b[0;34m,\u001b[0m \u001b[0;32mNone\u001b[0m\u001b[0;34m)\u001b[0m\u001b[0;34m\u001b[0m\u001b[0;34m\u001b[0m\u001b[0m\n\u001b[0;32m---> 95\u001b[0;31m         self.data = self._handle_data(endog, exog, missing, hasconst,\n\u001b[0m\u001b[1;32m     96\u001b[0m                                       **kwargs)\n\u001b[1;32m     97\u001b[0m         \u001b[0mself\u001b[0m\u001b[0;34m.\u001b[0m\u001b[0mk_constant\u001b[0m \u001b[0;34m=\u001b[0m \u001b[0mself\u001b[0m\u001b[0;34m.\u001b[0m\u001b[0mdata\u001b[0m\u001b[0;34m.\u001b[0m\u001b[0mk_constant\u001b[0m\u001b[0;34m\u001b[0m\u001b[0;34m\u001b[0m\u001b[0m\n",
            "\u001b[0;32m/usr/local/lib/python3.10/dist-packages/statsmodels/base/model.py\u001b[0m in \u001b[0;36m_handle_data\u001b[0;34m(self, endog, exog, missing, hasconst, **kwargs)\u001b[0m\n\u001b[1;32m    133\u001b[0m \u001b[0;34m\u001b[0m\u001b[0m\n\u001b[1;32m    134\u001b[0m     \u001b[0;32mdef\u001b[0m \u001b[0m_handle_data\u001b[0m\u001b[0;34m(\u001b[0m\u001b[0mself\u001b[0m\u001b[0;34m,\u001b[0m \u001b[0mendog\u001b[0m\u001b[0;34m,\u001b[0m \u001b[0mexog\u001b[0m\u001b[0;34m,\u001b[0m \u001b[0mmissing\u001b[0m\u001b[0;34m,\u001b[0m \u001b[0mhasconst\u001b[0m\u001b[0;34m,\u001b[0m \u001b[0;34m**\u001b[0m\u001b[0mkwargs\u001b[0m\u001b[0;34m)\u001b[0m\u001b[0;34m:\u001b[0m\u001b[0;34m\u001b[0m\u001b[0;34m\u001b[0m\u001b[0m\n\u001b[0;32m--> 135\u001b[0;31m         \u001b[0mdata\u001b[0m \u001b[0;34m=\u001b[0m \u001b[0mhandle_data\u001b[0m\u001b[0;34m(\u001b[0m\u001b[0mendog\u001b[0m\u001b[0;34m,\u001b[0m \u001b[0mexog\u001b[0m\u001b[0;34m,\u001b[0m \u001b[0mmissing\u001b[0m\u001b[0;34m,\u001b[0m \u001b[0mhasconst\u001b[0m\u001b[0;34m,\u001b[0m \u001b[0;34m**\u001b[0m\u001b[0mkwargs\u001b[0m\u001b[0;34m)\u001b[0m\u001b[0;34m\u001b[0m\u001b[0;34m\u001b[0m\u001b[0m\n\u001b[0m\u001b[1;32m    136\u001b[0m         \u001b[0;31m# kwargs arrays could have changed, easier to just attach here\u001b[0m\u001b[0;34m\u001b[0m\u001b[0;34m\u001b[0m\u001b[0m\n\u001b[1;32m    137\u001b[0m         \u001b[0;32mfor\u001b[0m \u001b[0mkey\u001b[0m \u001b[0;32min\u001b[0m \u001b[0mkwargs\u001b[0m\u001b[0;34m:\u001b[0m\u001b[0;34m\u001b[0m\u001b[0;34m\u001b[0m\u001b[0m\n",
            "\u001b[0;32m/usr/local/lib/python3.10/dist-packages/statsmodels/base/data.py\u001b[0m in \u001b[0;36mhandle_data\u001b[0;34m(endog, exog, missing, hasconst, **kwargs)\u001b[0m\n\u001b[1;32m    673\u001b[0m \u001b[0;34m\u001b[0m\u001b[0m\n\u001b[1;32m    674\u001b[0m     \u001b[0mklass\u001b[0m \u001b[0;34m=\u001b[0m \u001b[0mhandle_data_class_factory\u001b[0m\u001b[0;34m(\u001b[0m\u001b[0mendog\u001b[0m\u001b[0;34m,\u001b[0m \u001b[0mexog\u001b[0m\u001b[0;34m)\u001b[0m\u001b[0;34m\u001b[0m\u001b[0;34m\u001b[0m\u001b[0m\n\u001b[0;32m--> 675\u001b[0;31m     return klass(endog, exog=exog, missing=missing, hasconst=hasconst,\n\u001b[0m\u001b[1;32m    676\u001b[0m                  **kwargs)\n",
            "\u001b[0;32m/usr/local/lib/python3.10/dist-packages/statsmodels/base/data.py\u001b[0m in \u001b[0;36m__init__\u001b[0;34m(self, endog, exog, missing, hasconst, **kwargs)\u001b[0m\n\u001b[1;32m     82\u001b[0m             \u001b[0mself\u001b[0m\u001b[0;34m.\u001b[0m\u001b[0morig_endog\u001b[0m \u001b[0;34m=\u001b[0m \u001b[0mendog\u001b[0m\u001b[0;34m\u001b[0m\u001b[0;34m\u001b[0m\u001b[0m\n\u001b[1;32m     83\u001b[0m             \u001b[0mself\u001b[0m\u001b[0;34m.\u001b[0m\u001b[0morig_exog\u001b[0m \u001b[0;34m=\u001b[0m \u001b[0mexog\u001b[0m\u001b[0;34m\u001b[0m\u001b[0;34m\u001b[0m\u001b[0m\n\u001b[0;32m---> 84\u001b[0;31m             \u001b[0mself\u001b[0m\u001b[0;34m.\u001b[0m\u001b[0mendog\u001b[0m\u001b[0;34m,\u001b[0m \u001b[0mself\u001b[0m\u001b[0;34m.\u001b[0m\u001b[0mexog\u001b[0m \u001b[0;34m=\u001b[0m \u001b[0mself\u001b[0m\u001b[0;34m.\u001b[0m\u001b[0m_convert_endog_exog\u001b[0m\u001b[0;34m(\u001b[0m\u001b[0mendog\u001b[0m\u001b[0;34m,\u001b[0m \u001b[0mexog\u001b[0m\u001b[0;34m)\u001b[0m\u001b[0;34m\u001b[0m\u001b[0;34m\u001b[0m\u001b[0m\n\u001b[0m\u001b[1;32m     85\u001b[0m \u001b[0;34m\u001b[0m\u001b[0m\n\u001b[1;32m     86\u001b[0m         \u001b[0mself\u001b[0m\u001b[0;34m.\u001b[0m\u001b[0mconst_idx\u001b[0m \u001b[0;34m=\u001b[0m \u001b[0;32mNone\u001b[0m\u001b[0;34m\u001b[0m\u001b[0;34m\u001b[0m\u001b[0m\n",
            "\u001b[0;32m/usr/local/lib/python3.10/dist-packages/statsmodels/base/data.py\u001b[0m in \u001b[0;36m_convert_endog_exog\u001b[0;34m(self, endog, exog)\u001b[0m\n\u001b[1;32m    507\u001b[0m         \u001b[0mexog\u001b[0m \u001b[0;34m=\u001b[0m \u001b[0mexog\u001b[0m \u001b[0;32mif\u001b[0m \u001b[0mexog\u001b[0m \u001b[0;32mis\u001b[0m \u001b[0;32mNone\u001b[0m \u001b[0;32melse\u001b[0m \u001b[0mnp\u001b[0m\u001b[0;34m.\u001b[0m\u001b[0masarray\u001b[0m\u001b[0;34m(\u001b[0m\u001b[0mexog\u001b[0m\u001b[0;34m)\u001b[0m\u001b[0;34m\u001b[0m\u001b[0;34m\u001b[0m\u001b[0m\n\u001b[1;32m    508\u001b[0m         \u001b[0;32mif\u001b[0m \u001b[0mendog\u001b[0m\u001b[0;34m.\u001b[0m\u001b[0mdtype\u001b[0m \u001b[0;34m==\u001b[0m \u001b[0mobject\u001b[0m \u001b[0;32mor\u001b[0m \u001b[0mexog\u001b[0m \u001b[0;32mis\u001b[0m \u001b[0;32mnot\u001b[0m \u001b[0;32mNone\u001b[0m \u001b[0;32mand\u001b[0m \u001b[0mexog\u001b[0m\u001b[0;34m.\u001b[0m\u001b[0mdtype\u001b[0m \u001b[0;34m==\u001b[0m \u001b[0mobject\u001b[0m\u001b[0;34m:\u001b[0m\u001b[0;34m\u001b[0m\u001b[0;34m\u001b[0m\u001b[0m\n\u001b[0;32m--> 509\u001b[0;31m             raise ValueError(\"Pandas data cast to numpy dtype of object. \"\n\u001b[0m\u001b[1;32m    510\u001b[0m                              \"Check input data with np.asarray(data).\")\n\u001b[1;32m    511\u001b[0m         \u001b[0;32mreturn\u001b[0m \u001b[0msuper\u001b[0m\u001b[0;34m(\u001b[0m\u001b[0mPandasData\u001b[0m\u001b[0;34m,\u001b[0m \u001b[0mself\u001b[0m\u001b[0;34m)\u001b[0m\u001b[0;34m.\u001b[0m\u001b[0m_convert_endog_exog\u001b[0m\u001b[0;34m(\u001b[0m\u001b[0mendog\u001b[0m\u001b[0;34m,\u001b[0m \u001b[0mexog\u001b[0m\u001b[0;34m)\u001b[0m\u001b[0;34m\u001b[0m\u001b[0;34m\u001b[0m\u001b[0m\n",
            "\u001b[0;31mValueError\u001b[0m: Pandas data cast to numpy dtype of object. Check input data with np.asarray(data)."
          ]
        }
      ]
    },
    {
      "cell_type": "code",
      "source": [
        "from pyspark.sql.functions import lit\n",
        "from pyspark.ml.evaluation import RegressionEvaluator\n",
        "\n",
        "# Convert forecast result to PySpark DataFrame\n",
        "forecast_df = spark.createDataFrame(zip(test_data.index, forecast), schema=['Current Date', 'Forecast HCHO'])\n",
        "\n",
        "# Join forecast and test data\n",
        "evaluation_df = forecast_df.join(all_data.select('Current Date', 'HCHO Reading'), on='Current Date', how='inner') \\\n",
        "                           .withColumnRenamed('HCHO Reading', 'Actual HCHO')\n",
        "\n",
        "# Calculate evaluation metrics\n",
        "mse_evaluator = RegressionEvaluator(labelCol='Actual HCHO', predictionCol='Forecast HCHO', metricName='mse')\n",
        "mse = mse_evaluator.evaluate(evaluation_df)\n",
        "\n",
        "mae_evaluator = RegressionEvaluator(labelCol='Actual HCHO', predictionCol='Forecast HCHO', metricName='mae')\n",
        "mae = mae_evaluator.evaluate(evaluation_df)\n",
        "\n",
        "rmse = mse ** 0.5  # Calculate RMSE from MSE\n",
        "\n",
        "# Print evaluation metrics\n",
        "print(\"Evaluation Metrics:\")\n",
        "print(\"Mean Squared Error (MSE):\", mse)\n",
        "print(\"Mean Absolute Error (MAE):\", mae)\n",
        "print(\"Root Mean Squared Error (RMSE):\", rmse)"
      ],
      "metadata": {
        "id": "bhATDOk68Zll"
      },
      "execution_count": null,
      "outputs": []
    },
    {
      "cell_type": "code",
      "source": [
        "# from pyspark.sql.functions import col, when, lag, lead\n",
        "# from pyspark.sql.window import Window\n",
        "\n",
        "# # Define a window specification partitioned by 'Location' and ordered by 'Current Date'\n",
        "# window_spec = Window.partitionBy('Location').orderBy('Current Date')\n",
        "\n",
        "# # Calculate lag and lead values\n",
        "# lag_value = lag('HCHO Reading').over(window_spec)\n",
        "# lead_value = lead('HCHO Reading').over(window_spec)\n",
        "\n",
        "# # Fill missing values by taking the average of lag and lead values\n",
        "# interpolated_value = (lag_value + lead_value) / 2\n",
        "\n",
        "# # Fill missing values in 'HCHO Reading' column using interpolation\n",
        "# interpolated_data = all_data.withColumn('HCHO Reading',\n",
        "#                                         when(col('HCHO Reading').isNull(), interpolated_value)\n",
        "#                                         .otherwise(col('HCHO Reading')))\n",
        "\n",
        "# # Show the interpolated data\n",
        "# print(interpolated_data.show())\n",
        "# # Count the number of null values in each column\n",
        "# null_counts = interpolated_data.select([col(c).isNull().alias(c) for c in interpolated_data.columns]).toPandas().sum()\n",
        "\n",
        "# # Print the number of null values in each column\n",
        "# print(\"Number of null values in each column:\")\n",
        "# print(null_counts)"
      ],
      "metadata": {
        "id": "fXBtriwCB-g5"
      },
      "execution_count": 26,
      "outputs": []
    },
    {
      "cell_type": "code",
      "source": [
        "# from pyspark.ml.feature import VectorAssembler\n",
        "# from pyspark.ml.regression import LinearRegression\n",
        "# from pyspark.sql.functions import col\n",
        "\n",
        "# # Select relevant columns for imputation\n",
        "# selected_columns = ['HCHO Reading', 'Current Date', 'Next Date', 'Location']\n",
        "\n",
        "# # Drop rows with missing values in any of the selected columns\n",
        "# selected_data = interpolated_data.dropna(subset=selected_columns)\n",
        "\n",
        "# # Convert 'Location' column to numerical using StringIndexer\n",
        "# from pyspark.ml.feature import StringIndexer\n",
        "# indexer = StringIndexer(inputCol=\"Location\", outputCol=\"LocationIndex\")\n",
        "# indexed_data = indexer.fit(selected_data).transform(selected_data)\n",
        "\n",
        "# # Create feature vector combining 'Current Date', 'Next Date', and 'LocationIndex'\n",
        "# assembler = VectorAssembler(inputCols=[\"Current Date\", \"Next Date\", \"LocationIndex\"], outputCol=\"features\")\n",
        "# assembled_data = assembler.transform(indexed_data)\n",
        "\n",
        "# # Split data into training and testing sets\n",
        "# (training_data, testing_data) = assembled_data.randomSplit([0.8, 0.2])\n",
        "\n",
        "# # Train a linear regression model\n",
        "# lr = LinearRegression(featuresCol='features', labelCol='HCHO Reading')\n",
        "# lr_model = lr.fit(training_data)\n",
        "\n",
        "# # Make predictions on testing data\n",
        "# predictions = lr_model.transform(testing_data)\n",
        "\n",
        "# # Replace missing values in 'HCHO Reading' column with predicted values\n",
        "# imputed_data = interpolated_data.join(predictions.select('Current Date', 'Next Date', 'Location', 'prediction'),\n",
        "#                                       on=['Current Date', 'Next Date', 'Location'], how='left')\n",
        "\n",
        "# imputed_data = imputed_data.withColumn('HCHO Reading',\n",
        "#                                        when(col('HCHO Reading').isNull(), col('prediction'))\n",
        "#                                        .otherwise(col('HCHO Reading')))\n",
        "\n",
        "# # Drop the 'prediction' column\n",
        "# imputed_data = imputed_data.drop('prediction')\n",
        "\n",
        "# # Show the imputed data\n",
        "# imputed_data.show()\n"
      ],
      "metadata": {
        "id": "iqEYIfJwOc1G"
      },
      "execution_count": 27,
      "outputs": []
    },
    {
      "cell_type": "code",
      "source": [
        "# from pyspark.ml.feature import VectorAssembler\n",
        "# from pyspark.ml.regression import LinearRegression\n",
        "# from pyspark.sql.functions import col, datediff, lit\n",
        "\n",
        "# # Select relevant columns for imputation\n",
        "# selected_columns = ['HCHO Reading', 'Current Date', 'Next Date', 'Location']\n",
        "\n",
        "# # Drop rows with missing values in any of the selected columns\n",
        "# selected_data = interpolated_data.dropna(subset=selected_columns)\n",
        "\n",
        "# # Convert date columns to numerical values representing days since a reference date\n",
        "# reference_date = selected_data.selectExpr(\"min(`Current Date`)\")\n",
        "# reference_date_value = reference_date.collect()[0][0]\n",
        "\n",
        "# selected_data = selected_data.withColumn(\"Days Since Reference\", datediff(col(\"Current Date\"), lit(reference_date_value)))\n",
        "\n",
        "# # Convert 'Location' column to numerical using StringIndexer\n",
        "# from pyspark.ml.feature import StringIndexer\n",
        "# indexer = StringIndexer(inputCol=\"Location\", outputCol=\"LocationIndex\")\n",
        "# indexed_data = indexer.fit(selected_data).transform(selected_data)\n",
        "\n",
        "# # Create feature vector combining 'Days Since Reference', 'Next Date', and 'LocationIndex'\n",
        "# assembler = VectorAssembler(inputCols=[\"Days Since Reference\", \"Next Date\", \"LocationIndex\"], outputCol=\"features\")\n",
        "# assembled_data = assembler.transform(indexed_data)\n",
        "\n",
        "# # Split data into training and testing sets\n",
        "# (training_data, testing_data) = assembled_data.randomSplit([0.8, 0.2])\n",
        "\n",
        "# # Train a linear regression model\n",
        "# lr = LinearRegression(featuresCol='features', labelCol='HCHO Reading')\n",
        "# lr_model = lr.fit(training_data)\n",
        "\n",
        "# # Make predictions on testing data\n",
        "# predictions = lr_model.transform(testing_data)\n",
        "\n",
        "# # Replace missing values in 'HCHO Reading' column with predicted values\n",
        "# imputed_data = interpolated_data.join(predictions.select('Current Date', 'Next Date', 'Location', 'prediction'),\n",
        "#                                       on=['Current Date', 'Next Date', 'Location'], how='left')\n",
        "\n",
        "# imputed_data = imputed_data.withColumn('HCHO Reading',\n",
        "#                                        when(col('HCHO Reading').isNull(), col('prediction'))\n",
        "#                                        .otherwise(col('HCHO Reading')))\n",
        "\n",
        "# # Drop the 'prediction' column\n",
        "# imputed_data = imputed_data.drop('prediction')\n",
        "\n",
        "# # Show the imputed data\n",
        "# imputed_data.show()\n"
      ],
      "metadata": {
        "id": "v_B4jhtonbTD"
      },
      "execution_count": 28,
      "outputs": []
    },
    {
      "cell_type": "code",
      "source": [
        "# from pyspark.sql.functions import col, datediff, to_date\n",
        "\n",
        "# # Convert 'Next Date' column to date type\n",
        "# indexed_data = indexed_data.withColumn(\"Next Date\", to_date(col(\"Next Date\"), \"MM/dd/yyyy\"))\n",
        "\n",
        "# # Create feature vector combining 'Days Since Reference', 'Next Date', and 'LocationIndex'\n",
        "# assembler = VectorAssembler(inputCols=[\"Days Since Reference\", \"Next Date\", \"LocationIndex\"], outputCol=\"features\")\n",
        "# assembled_data = assembler.transform(indexed_data)\n",
        "\n",
        "# # Split data into training and testing sets\n",
        "# (training_data, testing_data) = assembled_data.randomSplit([0.8, 0.2])\n",
        "\n",
        "# # Train a linear regression model\n",
        "# lr = LinearRegression(featuresCol='features', labelCol='HCHO Reading')\n",
        "# lr_model = lr.fit(training_data)\n",
        "\n",
        "# # Make predictions on testing data\n",
        "# predictions = lr_model.transform(testing_data)\n",
        "\n",
        "# # Replace missing values in 'HCHO Reading' column with predicted values\n",
        "# imputed_data = interpolated_data.join(predictions.select('Current Date', 'Next Date', 'Location', 'prediction'),\n",
        "#                                       on=['Current Date', 'Next Date', 'Location'], how='left')\n",
        "\n",
        "# imputed_data = imputed_data.withColumn('HCHO Reading',\n",
        "#                                        when(col('HCHO Reading').isNull(), col('prediction'))\n",
        "#                                        .otherwise(col('HCHO Reading')))\n",
        "\n",
        "# # Drop the 'prediction' column\n",
        "# imputed_data = imputed_data.drop('prediction')\n",
        "\n",
        "# # Show the imputed data\n",
        "# imputed_data.show()"
      ],
      "metadata": {
        "id": "75ybk7ylnyn4"
      },
      "execution_count": 29,
      "outputs": []
    },
    {
      "cell_type": "code",
      "source": [
        "# from pyspark.sql.functions import col, datediff, to_date, lit\n",
        "\n",
        "# # Convert 'Next Date' column to date type\n",
        "# indexed_data = indexed_data.withColumn(\"Next Date\", to_date(col(\"Next Date\"), \"yyyy/MM/dd\"))\n",
        "\n",
        "# # Calculate the number of days since a reference date for 'Current Date' and 'Next Date'\n",
        "# reference_date = indexed_data.selectExpr(\"min(`Current Date`)\")\n",
        "# reference_date_value = reference_date.collect()[0][0]\n",
        "\n",
        "# indexed_data = indexed_data.withColumn(\"Days Since Reference\", datediff(col(\"Current Date\"), lit(reference_date_value)))\n",
        "\n",
        "# # Create feature vector combining 'Days Since Reference', 'Next Date', and 'LocationIndex'\n",
        "# assembler = VectorAssembler(inputCols=[\"Days Since Reference\", \"Next Date\", \"LocationIndex\"], outputCol=\"features\")\n",
        "# assembled_data = assembler.transform(indexed_data)\n",
        "\n",
        "# # Split data into training and testing sets\n",
        "# (training_data, testing_data) = assembled_data.randomSplit([0.8, 0.2])\n",
        "\n",
        "# # Train a linear regression model\n",
        "# lr = LinearRegression(featuresCol='features', labelCol='HCHO Reading')\n",
        "# lr_model = lr.fit(training_data)\n",
        "\n",
        "# # Make predictions on testing data\n",
        "# predictions = lr_model.transform(testing_data)\n",
        "\n",
        "# # Replace missing values in 'HCHO Reading' column with predicted values\n",
        "# imputed_data = interpolated_data.join(predictions.select('Current Date', 'Next Date', 'Location', 'prediction'),\n",
        "#                                       on=['Current Date', 'Next Date', 'Location'], how='left')\n",
        "\n",
        "# imputed_data = imputed_data.withColumn('HCHO Reading',\n",
        "#                                        when(col('HCHO Reading').isNull(), col('prediction'))\n",
        "#                                        .otherwise(col('HCHO Reading')))\n",
        "\n",
        "# # Drop the 'prediction' column\n",
        "# imputed_data = imputed_data.drop('prediction')\n",
        "\n",
        "# # Show the imputed data\n",
        "# imputed_data.show()\n"
      ],
      "metadata": {
        "id": "VU78kxGWocST"
      },
      "execution_count": 30,
      "outputs": []
    },
    {
      "cell_type": "code",
      "source": [
        "# import pandas as pd\n",
        "# import matplotlib.pyplot as plt\n",
        "\n",
        "# # Load data from CSV files\n",
        "# col_mat_nuw_data = pd.read_csv('/content/drive/My Drive/Data Engineering/col_mat_nuw_output.csv')\n",
        "# mon_kur_jaf_data = pd.read_csv('/content/drive/My Drive/Data Engineering/kan_output.csv')\n",
        "# kan_data = pd.read_csv(\"/content/drive/My Drive/Data Engineering/mon_kur_jaf_output.csv\")\n",
        "\n",
        "# # Concatenate data from all files into a single DataFrame\n",
        "# all_data = pd.concat([col_mat_nuw_data, mon_kur_jaf_data, kan_data])\n",
        "\n",
        "\n",
        "\n",
        "\n",
        "# # Data Preprocessing\n",
        "# # Convert 'HCHO Reading' to numeric\n",
        "# all_data['HCHO Reading'] = pd.to_numeric(all_data['HCHO Reading'], errors='coerce')\n",
        "\n",
        "# # Impute missing values with the mean of each city's HCHO readings\n",
        "# all_data['HCHO Reading'] = all_data.groupby('Location')['HCHO Reading'].transform(lambda x: x.fillna(x.mean()))\n",
        "\n",
        "# # Explore Descriptive Statistics\n",
        "# # Summarize statistics for each city\n",
        "# city_statistics = all_data.groupby('Location')['HCHO Reading'].agg(['mean', 'median', 'std'])\n",
        "# print(\"Descriptive Statistics for Each City:\")\n",
        "# print(city_statistics)\n",
        "\n",
        "# # Summarize statistics for entire dataset\n",
        "# overall_statistics = all_data['HCHO Reading'].agg(['mean', 'median', 'std'])\n",
        "# print(\"\\nOverall Dataset Statistics:\")\n",
        "# print(overall_statistics)\n",
        "\n",
        "# # Visualize Data Distribution\n",
        "# # Create histograms for each city\n",
        "# for city, city_data in all_data.groupby('Location'):\n",
        "#     plt.figure(figsize=(8, 6))\n",
        "#     plt.hist(city_data['HCHO Reading'], bins=20, alpha=0.7)\n",
        "#     plt.title(f'Histogram of HCHO Readings in {city}')\n",
        "#     plt.xlabel('HCHO Reading')\n",
        "#     plt.ylabel('Frequency')\n",
        "#     plt.grid(True)\n",
        "#     plt.show()\n"
      ],
      "metadata": {
        "id": "5atkN5zrBdPk"
      },
      "execution_count": 31,
      "outputs": []
    },
    {
      "cell_type": "markdown",
      "source": [
        "# **2. Spatio - Temporal Analysis**"
      ],
      "metadata": {
        "id": "1bVEVwvI_foQ"
      }
    }
  ],
  "metadata": {
    "colab": {
      "provenance": [],
      "authorship_tag": "ABX9TyNC0fAKFXku+a7woElIgREX",
      "include_colab_link": true
    },
    "kernelspec": {
      "display_name": "Python 3",
      "name": "python3"
    },
    "language_info": {
      "name": "python"
    }
  },
  "nbformat": 4,
  "nbformat_minor": 0
}